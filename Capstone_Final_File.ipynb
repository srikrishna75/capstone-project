{
 "cells": [
  {
   "cell_type": "markdown",
   "metadata": {},
   "source": [
    "### Introduction\n",
    "\n",
    "In a one-click shopping world with on-demand everything, the Life insurance application process is antiquated.\n",
    "\n",
    "Customers provide extensive information to identify risk classification and eligibility, including scheduling medical exams, a process that takes an average of 30 days.\n",
    "\n",
    "The result? People are turned off.\n",
    "\n",
    "This Life Insurance company wants to make it quicker and less labor intensive for new and existing customers to get a quote while maintaining privacy boundaries."
   ]
  },
  {
   "cell_type": "markdown",
   "metadata": {},
   "source": [
    "### Problem Statement:\n",
    "Develop a prediction model that accurately classify the Risk Level of a Life Insurance application"
   ]
  },
  {
   "cell_type": "code",
   "execution_count": 92,
   "metadata": {},
   "outputs": [],
   "source": [
    "# Importing Libraries\n",
    "\n",
    "# Importing Mathematical Library\n",
    "import numpy as np\n",
    "#Importing Data Manipulation Library\n",
    "import pandas as pd\n",
    "\n",
    "# Importing Visualization Libraries\n",
    "import matplotlib.pyplot as plt # Basic Visualization Library\n",
    "import seaborn as sns # Statistical Visualization Library\n",
    "\n",
    "# Importing Machine Learning Libraries\n",
    "from sklearn.model_selection import train_test_split\n",
    "\n",
    "from sklearn.linear_model import LogisticRegression\n",
    "from sklearn.neighbors import KNeighborsClassifier\n",
    "from sklearn.tree import DecisionTreeClassifier\n",
    "from sklearn.ensemble import RandomForestClassifier\n",
    "\n",
    "from sklearn import metrics\n",
    "\n",
    "from sklearn.model_selection import RandomizedSearchCV\n",
    "\n",
    "from prettytable import PrettyTable\n",
    "\n",
    "from imblearn.over_sampling import SMOTE"
   ]
  },
  {
   "cell_type": "code",
   "execution_count": 2,
   "metadata": {},
   "outputs": [],
   "source": [
    "# Reading the Data File\n",
    "data = pd.read_csv('DATA.csv')"
   ]
  },
  {
   "cell_type": "code",
   "execution_count": 3,
   "metadata": {},
   "outputs": [
    {
     "data": {
      "text/html": [
       "<div>\n",
       "<style scoped>\n",
       "    .dataframe tbody tr th:only-of-type {\n",
       "        vertical-align: middle;\n",
       "    }\n",
       "\n",
       "    .dataframe tbody tr th {\n",
       "        vertical-align: top;\n",
       "    }\n",
       "\n",
       "    .dataframe thead th {\n",
       "        text-align: right;\n",
       "    }\n",
       "</style>\n",
       "<table border=\"1\" class=\"dataframe\">\n",
       "  <thead>\n",
       "    <tr style=\"text-align: right;\">\n",
       "      <th></th>\n",
       "      <th>Id</th>\n",
       "      <th>Product_Info_1</th>\n",
       "      <th>Product_Info_2</th>\n",
       "      <th>Product_Info_3</th>\n",
       "      <th>Product_Info_4</th>\n",
       "      <th>Product_Info_5</th>\n",
       "      <th>Product_Info_6</th>\n",
       "      <th>Product_Info_7</th>\n",
       "      <th>Ins_Age</th>\n",
       "      <th>Ht</th>\n",
       "      <th>...</th>\n",
       "      <th>Medical_Keyword_40</th>\n",
       "      <th>Medical_Keyword_41</th>\n",
       "      <th>Medical_Keyword_42</th>\n",
       "      <th>Medical_Keyword_43</th>\n",
       "      <th>Medical_Keyword_44</th>\n",
       "      <th>Medical_Keyword_45</th>\n",
       "      <th>Medical_Keyword_46</th>\n",
       "      <th>Medical_Keyword_47</th>\n",
       "      <th>Medical_Keyword_48</th>\n",
       "      <th>Response</th>\n",
       "    </tr>\n",
       "  </thead>\n",
       "  <tbody>\n",
       "    <tr>\n",
       "      <th>0</th>\n",
       "      <td>2</td>\n",
       "      <td>1</td>\n",
       "      <td>D3</td>\n",
       "      <td>10</td>\n",
       "      <td>0.076923</td>\n",
       "      <td>2</td>\n",
       "      <td>1</td>\n",
       "      <td>1</td>\n",
       "      <td>0.641791</td>\n",
       "      <td>0.581818</td>\n",
       "      <td>...</td>\n",
       "      <td>0</td>\n",
       "      <td>0</td>\n",
       "      <td>0</td>\n",
       "      <td>0</td>\n",
       "      <td>0</td>\n",
       "      <td>0</td>\n",
       "      <td>0</td>\n",
       "      <td>0</td>\n",
       "      <td>0</td>\n",
       "      <td>8</td>\n",
       "    </tr>\n",
       "    <tr>\n",
       "      <th>1</th>\n",
       "      <td>5</td>\n",
       "      <td>1</td>\n",
       "      <td>A1</td>\n",
       "      <td>26</td>\n",
       "      <td>0.076923</td>\n",
       "      <td>2</td>\n",
       "      <td>3</td>\n",
       "      <td>1</td>\n",
       "      <td>0.059701</td>\n",
       "      <td>0.600000</td>\n",
       "      <td>...</td>\n",
       "      <td>0</td>\n",
       "      <td>0</td>\n",
       "      <td>0</td>\n",
       "      <td>0</td>\n",
       "      <td>0</td>\n",
       "      <td>0</td>\n",
       "      <td>0</td>\n",
       "      <td>0</td>\n",
       "      <td>0</td>\n",
       "      <td>4</td>\n",
       "    </tr>\n",
       "    <tr>\n",
       "      <th>2</th>\n",
       "      <td>6</td>\n",
       "      <td>1</td>\n",
       "      <td>E1</td>\n",
       "      <td>26</td>\n",
       "      <td>0.076923</td>\n",
       "      <td>2</td>\n",
       "      <td>3</td>\n",
       "      <td>1</td>\n",
       "      <td>0.029851</td>\n",
       "      <td>0.745455</td>\n",
       "      <td>...</td>\n",
       "      <td>0</td>\n",
       "      <td>0</td>\n",
       "      <td>0</td>\n",
       "      <td>0</td>\n",
       "      <td>0</td>\n",
       "      <td>0</td>\n",
       "      <td>0</td>\n",
       "      <td>0</td>\n",
       "      <td>0</td>\n",
       "      <td>8</td>\n",
       "    </tr>\n",
       "    <tr>\n",
       "      <th>3</th>\n",
       "      <td>7</td>\n",
       "      <td>1</td>\n",
       "      <td>D4</td>\n",
       "      <td>10</td>\n",
       "      <td>0.487179</td>\n",
       "      <td>2</td>\n",
       "      <td>3</td>\n",
       "      <td>1</td>\n",
       "      <td>0.164179</td>\n",
       "      <td>0.672727</td>\n",
       "      <td>...</td>\n",
       "      <td>0</td>\n",
       "      <td>0</td>\n",
       "      <td>0</td>\n",
       "      <td>0</td>\n",
       "      <td>0</td>\n",
       "      <td>0</td>\n",
       "      <td>0</td>\n",
       "      <td>0</td>\n",
       "      <td>0</td>\n",
       "      <td>8</td>\n",
       "    </tr>\n",
       "    <tr>\n",
       "      <th>4</th>\n",
       "      <td>8</td>\n",
       "      <td>1</td>\n",
       "      <td>D2</td>\n",
       "      <td>26</td>\n",
       "      <td>0.230769</td>\n",
       "      <td>2</td>\n",
       "      <td>3</td>\n",
       "      <td>1</td>\n",
       "      <td>0.417910</td>\n",
       "      <td>0.654545</td>\n",
       "      <td>...</td>\n",
       "      <td>0</td>\n",
       "      <td>0</td>\n",
       "      <td>0</td>\n",
       "      <td>0</td>\n",
       "      <td>0</td>\n",
       "      <td>0</td>\n",
       "      <td>0</td>\n",
       "      <td>0</td>\n",
       "      <td>0</td>\n",
       "      <td>8</td>\n",
       "    </tr>\n",
       "  </tbody>\n",
       "</table>\n",
       "<p>5 rows × 128 columns</p>\n",
       "</div>"
      ],
      "text/plain": [
       "   Id  Product_Info_1 Product_Info_2  Product_Info_3  Product_Info_4  \\\n",
       "0   2               1             D3              10        0.076923   \n",
       "1   5               1             A1              26        0.076923   \n",
       "2   6               1             E1              26        0.076923   \n",
       "3   7               1             D4              10        0.487179   \n",
       "4   8               1             D2              26        0.230769   \n",
       "\n",
       "   Product_Info_5  Product_Info_6  Product_Info_7   Ins_Age        Ht  ...  \\\n",
       "0               2               1               1  0.641791  0.581818  ...   \n",
       "1               2               3               1  0.059701  0.600000  ...   \n",
       "2               2               3               1  0.029851  0.745455  ...   \n",
       "3               2               3               1  0.164179  0.672727  ...   \n",
       "4               2               3               1  0.417910  0.654545  ...   \n",
       "\n",
       "   Medical_Keyword_40  Medical_Keyword_41  Medical_Keyword_42  \\\n",
       "0                   0                   0                   0   \n",
       "1                   0                   0                   0   \n",
       "2                   0                   0                   0   \n",
       "3                   0                   0                   0   \n",
       "4                   0                   0                   0   \n",
       "\n",
       "   Medical_Keyword_43  Medical_Keyword_44  Medical_Keyword_45  \\\n",
       "0                   0                   0                   0   \n",
       "1                   0                   0                   0   \n",
       "2                   0                   0                   0   \n",
       "3                   0                   0                   0   \n",
       "4                   0                   0                   0   \n",
       "\n",
       "   Medical_Keyword_46  Medical_Keyword_47  Medical_Keyword_48  Response  \n",
       "0                   0                   0                   0         8  \n",
       "1                   0                   0                   0         4  \n",
       "2                   0                   0                   0         8  \n",
       "3                   0                   0                   0         8  \n",
       "4                   0                   0                   0         8  \n",
       "\n",
       "[5 rows x 128 columns]"
      ]
     },
     "execution_count": 3,
     "metadata": {},
     "output_type": "execute_result"
    }
   ],
   "source": [
    "# Viewing the first five rows of the Dataset\n",
    "data.head()"
   ]
  },
  {
   "cell_type": "code",
   "execution_count": 4,
   "metadata": {},
   "outputs": [
    {
     "name": "stdout",
     "output_type": "stream",
     "text": [
      "<class 'pandas.core.frame.DataFrame'>\n",
      "RangeIndex: 59381 entries, 0 to 59380\n",
      "Columns: 128 entries, Id to Response\n",
      "dtypes: float64(18), int64(109), object(1)\n",
      "memory usage: 58.0+ MB\n"
     ]
    }
   ],
   "source": [
    "# Understanding the Dataset\n",
    "data.info()"
   ]
  },
  {
   "cell_type": "code",
   "execution_count": 5,
   "metadata": {},
   "outputs": [
    {
     "name": "stdout",
     "output_type": "stream",
     "text": [
      "<class 'pandas.core.frame.DataFrame'>\n",
      "RangeIndex: 59381 entries, 0 to 59380\n",
      "Data columns (total 128 columns):\n",
      "Id                     int64\n",
      "Product_Info_1         int64\n",
      "Product_Info_2         object\n",
      "Product_Info_3         int64\n",
      "Product_Info_4         float64\n",
      "Product_Info_5         int64\n",
      "Product_Info_6         int64\n",
      "Product_Info_7         int64\n",
      "Ins_Age                float64\n",
      "Ht                     float64\n",
      "Wt                     float64\n",
      "BMI                    float64\n",
      "Employment_Info_1      float64\n",
      "Employment_Info_2      int64\n",
      "Employment_Info_3      int64\n",
      "Employment_Info_4      float64\n",
      "Employment_Info_5      int64\n",
      "Employment_Info_6      float64\n",
      "InsuredInfo_1          int64\n",
      "InsuredInfo_2          int64\n",
      "InsuredInfo_3          int64\n",
      "InsuredInfo_4          int64\n",
      "InsuredInfo_5          int64\n",
      "InsuredInfo_6          int64\n",
      "InsuredInfo_7          int64\n",
      "Insurance_History_1    int64\n",
      "Insurance_History_2    int64\n",
      "Insurance_History_3    int64\n",
      "Insurance_History_4    int64\n",
      "Insurance_History_5    float64\n",
      "Insurance_History_7    int64\n",
      "Insurance_History_8    int64\n",
      "Insurance_History_9    int64\n",
      "Family_Hist_1          int64\n",
      "Family_Hist_2          float64\n",
      "Family_Hist_3          float64\n",
      "Family_Hist_4          float64\n",
      "Family_Hist_5          float64\n",
      "Medical_History_1      float64\n",
      "Medical_History_2      int64\n",
      "Medical_History_3      int64\n",
      "Medical_History_4      int64\n",
      "Medical_History_5      int64\n",
      "Medical_History_6      int64\n",
      "Medical_History_7      int64\n",
      "Medical_History_8      int64\n",
      "Medical_History_9      int64\n",
      "Medical_History_10     float64\n",
      "Medical_History_11     int64\n",
      "Medical_History_12     int64\n",
      "Medical_History_13     int64\n",
      "Medical_History_14     int64\n",
      "Medical_History_15     float64\n",
      "Medical_History_16     int64\n",
      "Medical_History_17     int64\n",
      "Medical_History_18     int64\n",
      "Medical_History_19     int64\n",
      "Medical_History_20     int64\n",
      "Medical_History_21     int64\n",
      "Medical_History_22     int64\n",
      "Medical_History_23     int64\n",
      "Medical_History_24     float64\n",
      "Medical_History_25     int64\n",
      "Medical_History_26     int64\n",
      "Medical_History_27     int64\n",
      "Medical_History_28     int64\n",
      "Medical_History_29     int64\n",
      "Medical_History_30     int64\n",
      "Medical_History_31     int64\n",
      "Medical_History_32     float64\n",
      "Medical_History_33     int64\n",
      "Medical_History_34     int64\n",
      "Medical_History_35     int64\n",
      "Medical_History_36     int64\n",
      "Medical_History_37     int64\n",
      "Medical_History_38     int64\n",
      "Medical_History_39     int64\n",
      "Medical_History_40     int64\n",
      "Medical_History_41     int64\n",
      "Medical_Keyword_1      int64\n",
      "Medical_Keyword_2      int64\n",
      "Medical_Keyword_3      int64\n",
      "Medical_Keyword_4      int64\n",
      "Medical_Keyword_5      int64\n",
      "Medical_Keyword_6      int64\n",
      "Medical_Keyword_7      int64\n",
      "Medical_Keyword_8      int64\n",
      "Medical_Keyword_9      int64\n",
      "Medical_Keyword_10     int64\n",
      "Medical_Keyword_11     int64\n",
      "Medical_Keyword_12     int64\n",
      "Medical_Keyword_13     int64\n",
      "Medical_Keyword_14     int64\n",
      "Medical_Keyword_15     int64\n",
      "Medical_Keyword_16     int64\n",
      "Medical_Keyword_17     int64\n",
      "Medical_Keyword_18     int64\n",
      "Medical_Keyword_19     int64\n",
      "Medical_Keyword_20     int64\n",
      "Medical_Keyword_21     int64\n",
      "Medical_Keyword_22     int64\n",
      "Medical_Keyword_23     int64\n",
      "Medical_Keyword_24     int64\n",
      "Medical_Keyword_25     int64\n",
      "Medical_Keyword_26     int64\n",
      "Medical_Keyword_27     int64\n",
      "Medical_Keyword_28     int64\n",
      "Medical_Keyword_29     int64\n",
      "Medical_Keyword_30     int64\n",
      "Medical_Keyword_31     int64\n",
      "Medical_Keyword_32     int64\n",
      "Medical_Keyword_33     int64\n",
      "Medical_Keyword_34     int64\n",
      "Medical_Keyword_35     int64\n",
      "Medical_Keyword_36     int64\n",
      "Medical_Keyword_37     int64\n",
      "Medical_Keyword_38     int64\n",
      "Medical_Keyword_39     int64\n",
      "Medical_Keyword_40     int64\n",
      "Medical_Keyword_41     int64\n",
      "Medical_Keyword_42     int64\n",
      "Medical_Keyword_43     int64\n",
      "Medical_Keyword_44     int64\n",
      "Medical_Keyword_45     int64\n",
      "Medical_Keyword_46     int64\n",
      "Medical_Keyword_47     int64\n",
      "Medical_Keyword_48     int64\n",
      "Response               int64\n",
      "dtypes: float64(18), int64(109), object(1)\n",
      "memory usage: 58.0+ MB\n"
     ]
    }
   ],
   "source": [
    "# Understanding information of all the Columns in the Dataset\n",
    "data.info(verbose=True)"
   ]
  },
  {
   "cell_type": "markdown",
   "metadata": {},
   "source": [
    "#### Observations about the Data:\n",
    "1. Size of the Dataset : 59381 x 128\n",
    "2. No. of Rows : 59381\n",
    "3. No. of Columns : 128\n",
    "4. Data Types :\n",
    "            4(a) float64 = 18 Columns\n",
    "            4(b) int64 = 109\n",
    "            4(c) object = 1\n",
    "5. Target Variable = 'Response'"
   ]
  },
  {
   "cell_type": "markdown",
   "metadata": {},
   "source": [
    "### Checking of Missing Values:"
   ]
  },
  {
   "cell_type": "code",
   "execution_count": 14,
   "metadata": {},
   "outputs": [],
   "source": [
    "def null_function():\n",
    "    null_values = pd.DataFrame((data.isnull().sum()/len(data.index)*100),columns=['Percent_Null'])\n",
    "    only_missing_variables = null_values[null_values['Percent_Null'] !=0 ]\n",
    "    return pd.DataFrame(only_missing_variables.sort_values(by='Percent_Null', ascending=False))"
   ]
  },
  {
   "cell_type": "code",
   "execution_count": 17,
   "metadata": {},
   "outputs": [
    {
     "data": {
      "text/html": [
       "<div>\n",
       "<style scoped>\n",
       "    .dataframe tbody tr th:only-of-type {\n",
       "        vertical-align: middle;\n",
       "    }\n",
       "\n",
       "    .dataframe tbody tr th {\n",
       "        vertical-align: top;\n",
       "    }\n",
       "\n",
       "    .dataframe thead th {\n",
       "        text-align: right;\n",
       "    }\n",
       "</style>\n",
       "<table border=\"1\" class=\"dataframe\">\n",
       "  <thead>\n",
       "    <tr style=\"text-align: right;\">\n",
       "      <th></th>\n",
       "      <th>Percent_Null</th>\n",
       "    </tr>\n",
       "  </thead>\n",
       "  <tbody>\n",
       "    <tr>\n",
       "      <th>Medical_History_10</th>\n",
       "      <td>99.061990</td>\n",
       "    </tr>\n",
       "    <tr>\n",
       "      <th>Medical_History_32</th>\n",
       "      <td>98.135767</td>\n",
       "    </tr>\n",
       "    <tr>\n",
       "      <th>Medical_History_24</th>\n",
       "      <td>93.598963</td>\n",
       "    </tr>\n",
       "    <tr>\n",
       "      <th>Medical_History_15</th>\n",
       "      <td>75.101463</td>\n",
       "    </tr>\n",
       "    <tr>\n",
       "      <th>Family_Hist_5</th>\n",
       "      <td>70.411411</td>\n",
       "    </tr>\n",
       "    <tr>\n",
       "      <th>Family_Hist_3</th>\n",
       "      <td>57.663226</td>\n",
       "    </tr>\n",
       "    <tr>\n",
       "      <th>Family_Hist_2</th>\n",
       "      <td>48.257860</td>\n",
       "    </tr>\n",
       "    <tr>\n",
       "      <th>Insurance_History_5</th>\n",
       "      <td>42.767889</td>\n",
       "    </tr>\n",
       "    <tr>\n",
       "      <th>Family_Hist_4</th>\n",
       "      <td>32.306630</td>\n",
       "    </tr>\n",
       "    <tr>\n",
       "      <th>Employment_Info_6</th>\n",
       "      <td>18.278574</td>\n",
       "    </tr>\n",
       "    <tr>\n",
       "      <th>Medical_History_1</th>\n",
       "      <td>14.969435</td>\n",
       "    </tr>\n",
       "    <tr>\n",
       "      <th>Employment_Info_4</th>\n",
       "      <td>11.416110</td>\n",
       "    </tr>\n",
       "    <tr>\n",
       "      <th>Employment_Info_1</th>\n",
       "      <td>0.031997</td>\n",
       "    </tr>\n",
       "  </tbody>\n",
       "</table>\n",
       "</div>"
      ],
      "text/plain": [
       "                     Percent_Null\n",
       "Medical_History_10      99.061990\n",
       "Medical_History_32      98.135767\n",
       "Medical_History_24      93.598963\n",
       "Medical_History_15      75.101463\n",
       "Family_Hist_5           70.411411\n",
       "Family_Hist_3           57.663226\n",
       "Family_Hist_2           48.257860\n",
       "Insurance_History_5     42.767889\n",
       "Family_Hist_4           32.306630\n",
       "Employment_Info_6       18.278574\n",
       "Medical_History_1       14.969435\n",
       "Employment_Info_4       11.416110\n",
       "Employment_Info_1        0.031997"
      ]
     },
     "execution_count": 17,
     "metadata": {},
     "output_type": "execute_result"
    }
   ],
   "source": [
    "pd.DataFrame(null_function())"
   ]
  },
  {
   "cell_type": "code",
   "execution_count": 32,
   "metadata": {},
   "outputs": [
    {
     "data": {
      "text/html": [
       "<div>\n",
       "<style scoped>\n",
       "    .dataframe tbody tr th:only-of-type {\n",
       "        vertical-align: middle;\n",
       "    }\n",
       "\n",
       "    .dataframe tbody tr th {\n",
       "        vertical-align: top;\n",
       "    }\n",
       "\n",
       "    .dataframe thead th {\n",
       "        text-align: right;\n",
       "    }\n",
       "</style>\n",
       "<table border=\"1\" class=\"dataframe\">\n",
       "  <thead>\n",
       "    <tr style=\"text-align: right;\">\n",
       "      <th></th>\n",
       "      <th>Total No. of Null Values</th>\n",
       "    </tr>\n",
       "  </thead>\n",
       "  <tbody>\n",
       "    <tr>\n",
       "      <th>Medical_History_10</th>\n",
       "      <td>58824</td>\n",
       "    </tr>\n",
       "    <tr>\n",
       "      <th>Medical_History_32</th>\n",
       "      <td>58274</td>\n",
       "    </tr>\n",
       "    <tr>\n",
       "      <th>Medical_History_24</th>\n",
       "      <td>55580</td>\n",
       "    </tr>\n",
       "    <tr>\n",
       "      <th>Medical_History_15</th>\n",
       "      <td>44596</td>\n",
       "    </tr>\n",
       "    <tr>\n",
       "      <th>Family_Hist_5</th>\n",
       "      <td>41811</td>\n",
       "    </tr>\n",
       "    <tr>\n",
       "      <th>Family_Hist_3</th>\n",
       "      <td>34241</td>\n",
       "    </tr>\n",
       "    <tr>\n",
       "      <th>Family_Hist_2</th>\n",
       "      <td>28656</td>\n",
       "    </tr>\n",
       "    <tr>\n",
       "      <th>Insurance_History_5</th>\n",
       "      <td>25396</td>\n",
       "    </tr>\n",
       "    <tr>\n",
       "      <th>Family_Hist_4</th>\n",
       "      <td>19184</td>\n",
       "    </tr>\n",
       "    <tr>\n",
       "      <th>Employment_Info_6</th>\n",
       "      <td>10854</td>\n",
       "    </tr>\n",
       "    <tr>\n",
       "      <th>Medical_History_1</th>\n",
       "      <td>8889</td>\n",
       "    </tr>\n",
       "    <tr>\n",
       "      <th>Employment_Info_4</th>\n",
       "      <td>6779</td>\n",
       "    </tr>\n",
       "    <tr>\n",
       "      <th>Employment_Info_1</th>\n",
       "      <td>19</td>\n",
       "    </tr>\n",
       "  </tbody>\n",
       "</table>\n",
       "</div>"
      ],
      "text/plain": [
       "                     Total No. of Null Values\n",
       "Medical_History_10                      58824\n",
       "Medical_History_32                      58274\n",
       "Medical_History_24                      55580\n",
       "Medical_History_15                      44596\n",
       "Family_Hist_5                           41811\n",
       "Family_Hist_3                           34241\n",
       "Family_Hist_2                           28656\n",
       "Insurance_History_5                     25396\n",
       "Family_Hist_4                           19184\n",
       "Employment_Info_6                       10854\n",
       "Medical_History_1                        8889\n",
       "Employment_Info_4                        6779\n",
       "Employment_Info_1                          19"
      ]
     },
     "execution_count": 32,
     "metadata": {},
     "output_type": "execute_result"
    }
   ],
   "source": [
    "# Finding the Total No. of Null Values in each Column:\n",
    "pd.DataFrame(data.isnull().sum())[pd.DataFrame(data.isnull().sum())[0] != 0].sort_values(by=0, ascending=False).rename(columns={0:'Total No. of Null Values'})"
   ]
  },
  {
   "cell_type": "markdown",
   "metadata": {},
   "source": [
    "### Dealing with Missing Values:"
   ]
  },
  {
   "cell_type": "markdown",
   "metadata": {},
   "source": [
    "Dropping the columns which are having more the 30% of Missing Values\n",
    "\n",
    "Columns which are having more than 30% of missing values are:\n",
    "    1. Medical_History_10 = 99.061990\n",
    "    2. Medical_History_32 = 98.135767\n",
    "    3. Medical_History_24 = 93.598963\n",
    "    4. Medical_History_15 = 75.101463\n",
    "    5. Family_Hist_5 = 70.411411\n",
    "    6. Family_Hist_3 = 57.663226\n",
    "    7. Family_Hist_2 = 48.257860\n",
    "    8. Insurance_History_5 = 42.767889\n",
    "    9. Family_Hist_4 = 32.306630"
   ]
  },
  {
   "cell_type": "code",
   "execution_count": 39,
   "metadata": {},
   "outputs": [
    {
     "data": {
      "text/html": [
       "<div>\n",
       "<style scoped>\n",
       "    .dataframe tbody tr th:only-of-type {\n",
       "        vertical-align: middle;\n",
       "    }\n",
       "\n",
       "    .dataframe tbody tr th {\n",
       "        vertical-align: top;\n",
       "    }\n",
       "\n",
       "    .dataframe thead th {\n",
       "        text-align: right;\n",
       "    }\n",
       "</style>\n",
       "<table border=\"1\" class=\"dataframe\">\n",
       "  <thead>\n",
       "    <tr style=\"text-align: right;\">\n",
       "      <th></th>\n",
       "      <th>Percent_Null</th>\n",
       "    </tr>\n",
       "  </thead>\n",
       "  <tbody>\n",
       "    <tr>\n",
       "      <th>Medical_History_10</th>\n",
       "      <td>99.061990</td>\n",
       "    </tr>\n",
       "    <tr>\n",
       "      <th>Medical_History_32</th>\n",
       "      <td>98.135767</td>\n",
       "    </tr>\n",
       "    <tr>\n",
       "      <th>Medical_History_24</th>\n",
       "      <td>93.598963</td>\n",
       "    </tr>\n",
       "    <tr>\n",
       "      <th>Medical_History_15</th>\n",
       "      <td>75.101463</td>\n",
       "    </tr>\n",
       "    <tr>\n",
       "      <th>Family_Hist_5</th>\n",
       "      <td>70.411411</td>\n",
       "    </tr>\n",
       "    <tr>\n",
       "      <th>Family_Hist_3</th>\n",
       "      <td>57.663226</td>\n",
       "    </tr>\n",
       "    <tr>\n",
       "      <th>Family_Hist_2</th>\n",
       "      <td>48.257860</td>\n",
       "    </tr>\n",
       "    <tr>\n",
       "      <th>Insurance_History_5</th>\n",
       "      <td>42.767889</td>\n",
       "    </tr>\n",
       "    <tr>\n",
       "      <th>Family_Hist_4</th>\n",
       "      <td>32.306630</td>\n",
       "    </tr>\n",
       "  </tbody>\n",
       "</table>\n",
       "</div>"
      ],
      "text/plain": [
       "                     Percent_Null\n",
       "Medical_History_10      99.061990\n",
       "Medical_History_32      98.135767\n",
       "Medical_History_24      93.598963\n",
       "Medical_History_15      75.101463\n",
       "Family_Hist_5           70.411411\n",
       "Family_Hist_3           57.663226\n",
       "Family_Hist_2           48.257860\n",
       "Insurance_History_5     42.767889\n",
       "Family_Hist_4           32.306630"
      ]
     },
     "execution_count": 39,
     "metadata": {},
     "output_type": "execute_result"
    }
   ],
   "source": [
    "# Displaying the Columns with null values more than 30%\n",
    "null_values = pd.DataFrame((data.isnull().sum()/len(data.index)*100),columns=['Percent_Null'])\n",
    "only_missing_variables = null_values[(null_values['Percent_Null'] !=0) & (null_values['Percent_Null'] >=30)]\n",
    "pd.DataFrame(only_missing_variables.sort_values(by='Percent_Null', ascending=False))"
   ]
  },
  {
   "cell_type": "code",
   "execution_count": 40,
   "metadata": {},
   "outputs": [],
   "source": [
    "# Dropping the Columns:\n",
    "data.drop(['Medical_History_10','Medical_History_32','Medical_History_24','Medical_History_15','Family_Hist_5','Family_Hist_3','Family_Hist_2','Insurance_History_5','Family_Hist_4'],axis=1,inplace=True)"
   ]
  },
  {
   "cell_type": "markdown",
   "metadata": {},
   "source": [
    "### Missing Value Imputations:"
   ]
  },
  {
   "cell_type": "markdown",
   "metadata": {},
   "source": [
    "Checking for the columns having Missing Values, after dropping the Columns which are having missing values more than 30%."
   ]
  },
  {
   "cell_type": "code",
   "execution_count": 42,
   "metadata": {},
   "outputs": [
    {
     "data": {
      "text/html": [
       "<div>\n",
       "<style scoped>\n",
       "    .dataframe tbody tr th:only-of-type {\n",
       "        vertical-align: middle;\n",
       "    }\n",
       "\n",
       "    .dataframe tbody tr th {\n",
       "        vertical-align: top;\n",
       "    }\n",
       "\n",
       "    .dataframe thead th {\n",
       "        text-align: right;\n",
       "    }\n",
       "</style>\n",
       "<table border=\"1\" class=\"dataframe\">\n",
       "  <thead>\n",
       "    <tr style=\"text-align: right;\">\n",
       "      <th></th>\n",
       "      <th>Percent_Null</th>\n",
       "    </tr>\n",
       "  </thead>\n",
       "  <tbody>\n",
       "    <tr>\n",
       "      <th>Employment_Info_6</th>\n",
       "      <td>18.278574</td>\n",
       "    </tr>\n",
       "    <tr>\n",
       "      <th>Medical_History_1</th>\n",
       "      <td>14.969435</td>\n",
       "    </tr>\n",
       "    <tr>\n",
       "      <th>Employment_Info_4</th>\n",
       "      <td>11.416110</td>\n",
       "    </tr>\n",
       "    <tr>\n",
       "      <th>Employment_Info_1</th>\n",
       "      <td>0.031997</td>\n",
       "    </tr>\n",
       "  </tbody>\n",
       "</table>\n",
       "</div>"
      ],
      "text/plain": [
       "                   Percent_Null\n",
       "Employment_Info_6     18.278574\n",
       "Medical_History_1     14.969435\n",
       "Employment_Info_4     11.416110\n",
       "Employment_Info_1      0.031997"
      ]
     },
     "execution_count": 42,
     "metadata": {},
     "output_type": "execute_result"
    }
   ],
   "source": [
    "null_function()"
   ]
  },
  {
   "cell_type": "markdown",
   "metadata": {},
   "source": [
    "We are left with four columns that are having missing values more than 0% and less than 30%"
   ]
  },
  {
   "cell_type": "markdown",
   "metadata": {},
   "source": [
    "<b>Dealing with 'Employment_Info_1' Column:</b>"
   ]
  },
  {
   "cell_type": "code",
   "execution_count": 45,
   "metadata": {},
   "outputs": [
    {
     "data": {
      "text/plain": [
       "dtype('float64')"
      ]
     },
     "execution_count": 45,
     "metadata": {},
     "output_type": "execute_result"
    }
   ],
   "source": [
    "np.dtype(data['Employment_Info_1'])"
   ]
  },
  {
   "cell_type": "code",
   "execution_count": 46,
   "metadata": {},
   "outputs": [
    {
     "data": {
      "text/plain": [
       "1936"
      ]
     },
     "execution_count": 46,
     "metadata": {},
     "output_type": "execute_result"
    }
   ],
   "source": [
    "data['Employment_Info_1'].nunique()"
   ]
  },
  {
   "cell_type": "code",
   "execution_count": 47,
   "metadata": {},
   "outputs": [
    {
     "data": {
      "text/plain": [
       "0.082833       1\n",
       "0.062416       1\n",
       "0.099509       1\n",
       "0.065100       1\n",
       "0.011700       1\n",
       "0.075550       1\n",
       "0.012215       1\n",
       "0.097894       1\n",
       "0.040600       1\n",
       "0.007150       1\n",
       "0.072528       1\n",
       "0.053600       1\n",
       "0.432000       1\n",
       "0.145935       1\n",
       "0.047107       1\n",
       "0.033720       1\n",
       "0.040987       1\n",
       "0.063847       1\n",
       "0.129300       1\n",
       "0.050016       1\n",
       "0.034340       1\n",
       "0.050323       1\n",
       "0.021852       1\n",
       "0.017364       1\n",
       "0.028080       1\n",
       "0.101428       1\n",
       "0.035385       1\n",
       "0.012709       1\n",
       "0.076775       1\n",
       "0.042119       1\n",
       "            ... \n",
       "0.140000     422\n",
       "0.024000     430\n",
       "0.052000     457\n",
       "0.015000     471\n",
       "0.048000     481\n",
       "0.130000     513\n",
       "0.250000     523\n",
       "0.036000     543\n",
       "0.125000     580\n",
       "0.110000     688\n",
       "0.085000     816\n",
       "0.200000     907\n",
       "0.055000     980\n",
       "0.020000     982\n",
       "0.120000    1083\n",
       "0.090000    1111\n",
       "0.065000    1273\n",
       "0.025000    1276\n",
       "0.035000    1314\n",
       "0.150000    1368\n",
       "0.045000    1370\n",
       "0.070000    1732\n",
       "0.075000    1787\n",
       "0.080000    1833\n",
       "0.030000    1968\n",
       "0.040000    2395\n",
       "0.060000    2720\n",
       "0.100000    3006\n",
       "0.050000    3513\n",
       "0.000000    3688\n",
       "Name: Employment_Info_1, Length: 1936, dtype: int64"
      ]
     },
     "execution_count": 47,
     "metadata": {},
     "output_type": "execute_result"
    }
   ],
   "source": [
    "data['Employment_Info_1'].value_counts().sort_values()"
   ]
  },
  {
   "cell_type": "code",
   "execution_count": 15,
   "metadata": {},
   "outputs": [
    {
     "data": {
      "text/plain": [
       "<matplotlib.axes._subplots.AxesSubplot at 0x2cad804a518>"
      ]
     },
     "execution_count": 15,
     "metadata": {},
     "output_type": "execute_result"
    },
    {
     "data": {
      "image/png": "[encoded data removed]",
      "text/plain": [
       "<Figure size 432x288 with 1 Axes>"
      ]
     },
     "metadata": {
      "needs_background": "light"
     },
     "output_type": "display_data"
    }
   ],
   "source": [
    "sns.boxplot(df['Employment_Info_1'])\n",
    "# Note: distplot will not excute if there are nan in the data."
   ]
  },
  {
   "cell_type": "code",
   "execution_count": 16,
   "metadata": {},
   "outputs": [
    {
     "data": {
      "text/plain": [
       "count    59362.000000\n",
       "mean         0.077582\n",
       "std          0.082347\n",
       "min          0.000000\n",
       "25%          0.035000\n",
       "50%          0.060000\n",
       "75%          0.100000\n",
       "max          1.000000\n",
       "Name: Employment_Info_1, dtype: float64"
      ]
     },
     "execution_count": 16,
     "metadata": {},
     "output_type": "execute_result"
    }
   ],
   "source": [
    "df['Employment_Info_1'].describe()"
   ]
  },
  {
   "cell_type": "markdown",
   "metadata": {},
   "source": [
    "From the above information, we can infer that 'Employment_Info_1' Variable is continuous and right skewed, so for missing value imputation is done using median."
   ]
  },
  {
   "cell_type": "markdown",
   "metadata": {},
   "source": [
    "<b> Missing Value Imputation for 'Employment_Info_1' </b>"
   ]
  },
  {
   "cell_type": "code",
   "execution_count": 50,
   "metadata": {},
   "outputs": [
    {
     "data": {
      "text/plain": [
       "0.06"
      ]
     },
     "execution_count": 50,
     "metadata": {},
     "output_type": "execute_result"
    }
   ],
   "source": [
    "#Checking the median of 'Employment_Info_1':\n",
    "data['Employment_Info_1'].median()"
   ]
  },
  {
   "cell_type": "code",
   "execution_count": 53,
   "metadata": {},
   "outputs": [],
   "source": [
    "#Imputing missing values:\n",
    "data['Employment_Info_1'] = data['Employment_Info_1'].fillna(data['Employment_Info_1'].median())"
   ]
  },
  {
   "cell_type": "code",
   "execution_count": 54,
   "metadata": {},
   "outputs": [
    {
     "data": {
      "text/html": [
       "<div>\n",
       "<style scoped>\n",
       "    .dataframe tbody tr th:only-of-type {\n",
       "        vertical-align: middle;\n",
       "    }\n",
       "\n",
       "    .dataframe tbody tr th {\n",
       "        vertical-align: top;\n",
       "    }\n",
       "\n",
       "    .dataframe thead th {\n",
       "        text-align: right;\n",
       "    }\n",
       "</style>\n",
       "<table border=\"1\" class=\"dataframe\">\n",
       "  <thead>\n",
       "    <tr style=\"text-align: right;\">\n",
       "      <th></th>\n",
       "      <th>Percent_Null</th>\n",
       "    </tr>\n",
       "  </thead>\n",
       "  <tbody>\n",
       "    <tr>\n",
       "      <th>Employment_Info_6</th>\n",
       "      <td>18.278574</td>\n",
       "    </tr>\n",
       "    <tr>\n",
       "      <th>Medical_History_1</th>\n",
       "      <td>14.969435</td>\n",
       "    </tr>\n",
       "    <tr>\n",
       "      <th>Employment_Info_4</th>\n",
       "      <td>11.416110</td>\n",
       "    </tr>\n",
       "  </tbody>\n",
       "</table>\n",
       "</div>"
      ],
      "text/plain": [
       "                   Percent_Null\n",
       "Employment_Info_6     18.278574\n",
       "Medical_History_1     14.969435\n",
       "Employment_Info_4     11.416110"
      ]
     },
     "execution_count": 54,
     "metadata": {},
     "output_type": "execute_result"
    }
   ],
   "source": [
    "# Again Checking for Missing Values:\n",
    "null_function()"
   ]
  },
  {
   "cell_type": "markdown",
   "metadata": {},
   "source": [
    "<b>Dealing with 'Employment_Info_6' Column:</b>"
   ]
  },
  {
   "cell_type": "code",
   "execution_count": 55,
   "metadata": {},
   "outputs": [
    {
     "data": {
      "text/plain": [
       "dtype('float64')"
      ]
     },
     "execution_count": 55,
     "metadata": {},
     "output_type": "execute_result"
    }
   ],
   "source": [
    "np.dtype(data['Employment_Info_6'])"
   ]
  },
  {
   "cell_type": "code",
   "execution_count": 56,
   "metadata": {},
   "outputs": [
    {
     "data": {
      "text/plain": [
       "992"
      ]
     },
     "execution_count": 56,
     "metadata": {},
     "output_type": "execute_result"
    }
   ],
   "source": [
    "data['Employment_Info_6'].nunique()"
   ]
  },
  {
   "cell_type": "code",
   "execution_count": 57,
   "metadata": {},
   "outputs": [
    {
     "data": {
      "text/plain": [
       "<matplotlib.axes._subplots.AxesSubplot at 0x1f6ce5a5978>"
      ]
     },
     "execution_count": 57,
     "metadata": {},
     "output_type": "execute_result"
    },
    {
     "data": {
      "image/png": "[encoded data removed]",
      "text/plain": [
       "<Figure size 432x288 with 1 Axes>"
      ]
     },
     "metadata": {
      "needs_background": "light"
     },
     "output_type": "display_data"
    }
   ],
   "source": [
    "sns.boxplot(data['Employment_Info_6'])"
   ]
  },
  {
   "cell_type": "code",
   "execution_count": 59,
   "metadata": {},
   "outputs": [
    {
     "data": {
      "text/plain": [
       "count    59381.000000\n",
       "mean         0.341094\n",
       "std          0.318917\n",
       "min          0.000000\n",
       "25%          0.100000\n",
       "50%          0.250000\n",
       "75%          0.500000\n",
       "max          1.000000\n",
       "Name: Employment_Info_6, dtype: float64"
      ]
     },
     "execution_count": 59,
     "metadata": {},
     "output_type": "execute_result"
    }
   ],
   "source": [
    "data['Employment_Info_6'].describe()"
   ]
  },
  {
   "cell_type": "markdown",
   "metadata": {},
   "source": [
    "From the above information, we can infer that 'Employment_Info_6' Variable is continuous and right skewed, so for missing value imputation is done using median."
   ]
  },
  {
   "cell_type": "markdown",
   "metadata": {},
   "source": [
    "<b> Missing Value Imputation for 'Employment_Info_6' </b>"
   ]
  },
  {
   "cell_type": "code",
   "execution_count": 58,
   "metadata": {},
   "outputs": [],
   "source": [
    "data['Employment_Info_6'] = data['Employment_Info_6'].fillna(data['Employment_Info_6'].median())"
   ]
  },
  {
   "cell_type": "code",
   "execution_count": 60,
   "metadata": {},
   "outputs": [
    {
     "data": {
      "text/html": [
       "<div>\n",
       "<style scoped>\n",
       "    .dataframe tbody tr th:only-of-type {\n",
       "        vertical-align: middle;\n",
       "    }\n",
       "\n",
       "    .dataframe tbody tr th {\n",
       "        vertical-align: top;\n",
       "    }\n",
       "\n",
       "    .dataframe thead th {\n",
       "        text-align: right;\n",
       "    }\n",
       "</style>\n",
       "<table border=\"1\" class=\"dataframe\">\n",
       "  <thead>\n",
       "    <tr style=\"text-align: right;\">\n",
       "      <th></th>\n",
       "      <th>Percent_Null</th>\n",
       "    </tr>\n",
       "  </thead>\n",
       "  <tbody>\n",
       "    <tr>\n",
       "      <th>Medical_History_1</th>\n",
       "      <td>14.969435</td>\n",
       "    </tr>\n",
       "    <tr>\n",
       "      <th>Employment_Info_4</th>\n",
       "      <td>11.416110</td>\n",
       "    </tr>\n",
       "  </tbody>\n",
       "</table>\n",
       "</div>"
      ],
      "text/plain": [
       "                   Percent_Null\n",
       "Medical_History_1     14.969435\n",
       "Employment_Info_4     11.416110"
      ]
     },
     "execution_count": 60,
     "metadata": {},
     "output_type": "execute_result"
    }
   ],
   "source": [
    "# Again Checking for Missing Values if any:\n",
    "null_function()"
   ]
  },
  {
   "cell_type": "markdown",
   "metadata": {},
   "source": [
    "<b>Dealing with 'Employment_Info_4' Column:</b>"
   ]
  },
  {
   "cell_type": "code",
   "execution_count": 61,
   "metadata": {},
   "outputs": [
    {
     "data": {
      "text/plain": [
       "dtype('float64')"
      ]
     },
     "execution_count": 61,
     "metadata": {},
     "output_type": "execute_result"
    }
   ],
   "source": [
    "np.dtype(data['Employment_Info_4'])"
   ]
  },
  {
   "cell_type": "code",
   "execution_count": 62,
   "metadata": {},
   "outputs": [
    {
     "data": {
      "text/plain": [
       "871"
      ]
     },
     "execution_count": 62,
     "metadata": {},
     "output_type": "execute_result"
    }
   ],
   "source": [
    "data['Employment_Info_4'].nunique()"
   ]
  },
  {
   "cell_type": "code",
   "execution_count": 64,
   "metadata": {},
   "outputs": [
    {
     "data": {
      "text/plain": [
       "<matplotlib.axes._subplots.AxesSubplot at 0x1f6d294ba90>"
      ]
     },
     "execution_count": 64,
     "metadata": {},
     "output_type": "execute_result"
    },
    {
     "data": {
      "image/png": "[encoded data removed]",
      "text/plain": [
       "<Figure size 432x288 with 1 Axes>"
      ]
     },
     "metadata": {
      "needs_background": "light"
     },
     "output_type": "display_data"
    }
   ],
   "source": [
    "sns.boxplot(data['Employment_Info_4'])"
   ]
  },
  {
   "cell_type": "code",
   "execution_count": 67,
   "metadata": {},
   "outputs": [
    {
     "data": {
      "text/plain": [
       "0.0"
      ]
     },
     "execution_count": 67,
     "metadata": {},
     "output_type": "execute_result"
    }
   ],
   "source": [
    "data['Employment_Info_4'].median()"
   ]
  },
  {
   "cell_type": "code",
   "execution_count": 30,
   "metadata": {},
   "outputs": [
    {
     "data": {
      "text/plain": [
       "0.000000    44659\n",
       "0.010000      418\n",
       "0.020000      345\n",
       "0.050000      338\n",
       "0.030000      320\n",
       "0.005000      308\n",
       "0.001000      277\n",
       "0.025000      228\n",
       "0.015000      219\n",
       "0.040000      216\n",
       "0.012000      214\n",
       "0.100000      188\n",
       "0.060000      186\n",
       "0.002000      173\n",
       "0.024000      141\n",
       "0.000500      124\n",
       "0.000100      121\n",
       "0.018000      108\n",
       "0.006000      100\n",
       "0.003000       95\n",
       "0.036000       90\n",
       "0.070000       89\n",
       "0.080000       83\n",
       "0.075000       82\n",
       "0.035000       81\n",
       "0.150000       77\n",
       "0.045000       75\n",
       "0.004000       65\n",
       "0.048000       60\n",
       "0.200000       58\n",
       "            ...  \n",
       "0.032900        1\n",
       "0.008700        1\n",
       "0.049285        1\n",
       "0.000255        1\n",
       "0.002640        1\n",
       "0.004980        1\n",
       "0.037392        1\n",
       "0.019764        1\n",
       "0.011190        1\n",
       "0.035613        1\n",
       "0.001561        1\n",
       "0.024407        1\n",
       "0.007968        1\n",
       "0.011388        1\n",
       "0.024585        1\n",
       "0.007632        1\n",
       "0.019600        1\n",
       "0.003180        1\n",
       "0.075480        1\n",
       "0.000156        1\n",
       "0.168000        1\n",
       "0.111000        1\n",
       "0.004400        1\n",
       "0.022776        1\n",
       "0.008040        1\n",
       "0.024400        1\n",
       "0.050500        1\n",
       "0.058100        1\n",
       "0.270174        1\n",
       "0.034900        1\n",
       "Name: Employment_Info_4, Length: 871, dtype: int64"
      ]
     },
     "execution_count": 30,
     "metadata": {},
     "output_type": "execute_result"
    }
   ],
   "source": [
    "df['Employment_Info_4'].value_counts()"
   ]
  },
  {
   "cell_type": "markdown",
   "metadata": {},
   "source": [
    "<b> Missing Value Imputation for 'Employment_Info_4' </b>"
   ]
  },
  {
   "cell_type": "code",
   "execution_count": 69,
   "metadata": {},
   "outputs": [],
   "source": [
    "data['Employment_Info_4'] = data['Employment_Info_4'].fillna(data['Employment_Info_4'].median())"
   ]
  },
  {
   "cell_type": "code",
   "execution_count": 72,
   "metadata": {},
   "outputs": [
    {
     "data": {
      "text/html": [
       "<div>\n",
       "<style scoped>\n",
       "    .dataframe tbody tr th:only-of-type {\n",
       "        vertical-align: middle;\n",
       "    }\n",
       "\n",
       "    .dataframe tbody tr th {\n",
       "        vertical-align: top;\n",
       "    }\n",
       "\n",
       "    .dataframe thead th {\n",
       "        text-align: right;\n",
       "    }\n",
       "</style>\n",
       "<table border=\"1\" class=\"dataframe\">\n",
       "  <thead>\n",
       "    <tr style=\"text-align: right;\">\n",
       "      <th></th>\n",
       "      <th>Percent_Null</th>\n",
       "    </tr>\n",
       "  </thead>\n",
       "  <tbody>\n",
       "    <tr>\n",
       "      <th>Medical_History_1</th>\n",
       "      <td>14.969435</td>\n",
       "    </tr>\n",
       "  </tbody>\n",
       "</table>\n",
       "</div>"
      ],
      "text/plain": [
       "                   Percent_Null\n",
       "Medical_History_1     14.969435"
      ]
     },
     "execution_count": 72,
     "metadata": {},
     "output_type": "execute_result"
    }
   ],
   "source": [
    "#Further checking for missing values if any:\n",
    "null_function()"
   ]
  },
  {
   "cell_type": "markdown",
   "metadata": {},
   "source": [
    "<b>Dealing with 'Medical_History_1' Column:</b>"
   ]
  },
  {
   "cell_type": "code",
   "execution_count": 73,
   "metadata": {},
   "outputs": [
    {
     "data": {
      "text/plain": [
       "<matplotlib.axes._subplots.AxesSubplot at 0x1f6d2d4b240>"
      ]
     },
     "execution_count": 73,
     "metadata": {},
     "output_type": "execute_result"
    },
    {
     "data": {
      "image/png": "[encoded data removed]",
      "text/plain": [
       "<Figure size 432x288 with 1 Axes>"
      ]
     },
     "metadata": {
      "needs_background": "light"
     },
     "output_type": "display_data"
    }
   ],
   "source": [
    "sns.boxplot(data['Medical_History_1'])"
   ]
  },
  {
   "cell_type": "code",
   "execution_count": 74,
   "metadata": {},
   "outputs": [
    {
     "data": {
      "text/plain": [
       "count    50492.000000\n",
       "mean         7.962172\n",
       "std         13.027697\n",
       "min          0.000000\n",
       "25%          2.000000\n",
       "50%          4.000000\n",
       "75%          9.000000\n",
       "max        240.000000\n",
       "Name: Medical_History_1, dtype: float64"
      ]
     },
     "execution_count": 74,
     "metadata": {},
     "output_type": "execute_result"
    }
   ],
   "source": [
    "data['Medical_History_1'].describe()"
   ]
  },
  {
   "cell_type": "code",
   "execution_count": 75,
   "metadata": {},
   "outputs": [
    {
     "data": {
      "text/plain": [
       "171"
      ]
     },
     "execution_count": 75,
     "metadata": {},
     "output_type": "execute_result"
    }
   ],
   "source": [
    "data['Medical_History_1'].nunique()"
   ]
  },
  {
   "cell_type": "code",
   "execution_count": 77,
   "metadata": {},
   "outputs": [
    {
     "data": {
      "text/plain": [
       "1.0      7657\n",
       "2.0      5727\n",
       "0.0      4789\n",
       "3.0      4722\n",
       "4.0      3668\n",
       "5.0      3149\n",
       "6.0      3017\n",
       "7.0      2082\n",
       "12.0     1738\n",
       "8.0      1618\n",
       "9.0      1480\n",
       "10.0     1339\n",
       "11.0     1183\n",
       "13.0      863\n",
       "14.0      715\n",
       "15.0      583\n",
       "16.0      499\n",
       "18.0      452\n",
       "17.0      442\n",
       "24.0      355\n",
       "19.0      313\n",
       "22.0      279\n",
       "21.0      276\n",
       "23.0      267\n",
       "20.0      266\n",
       "27.0      198\n",
       "25.0      186\n",
       "26.0      165\n",
       "28.0      139\n",
       "30.0      132\n",
       "         ... \n",
       "131.0       2\n",
       "124.0       2\n",
       "126.0       2\n",
       "118.0       2\n",
       "182.0       2\n",
       "145.0       2\n",
       "161.0       1\n",
       "193.0       1\n",
       "127.0       1\n",
       "153.0       1\n",
       "158.0       1\n",
       "141.0       1\n",
       "178.0       1\n",
       "185.0       1\n",
       "228.0       1\n",
       "191.0       1\n",
       "201.0       1\n",
       "187.0       1\n",
       "162.0       1\n",
       "132.0       1\n",
       "173.0       1\n",
       "229.0       1\n",
       "239.0       1\n",
       "143.0       1\n",
       "176.0       1\n",
       "156.0       1\n",
       "223.0       1\n",
       "130.0       1\n",
       "172.0       1\n",
       "175.0       1\n",
       "Name: Medical_History_1, Length: 171, dtype: int64"
      ]
     },
     "execution_count": 77,
     "metadata": {},
     "output_type": "execute_result"
    }
   ],
   "source": [
    "data['Medical_History_1'].value_counts()"
   ]
  },
  {
   "cell_type": "code",
   "execution_count": 44,
   "metadata": {},
   "outputs": [
    {
     "data": {
      "text/plain": [
       "0    1.0\n",
       "dtype: float64"
      ]
     },
     "execution_count": 44,
     "metadata": {},
     "output_type": "execute_result"
    }
   ],
   "source": [
    "data['Medical_History_1'].mode()"
   ]
  },
  {
   "cell_type": "markdown",
   "metadata": {},
   "source": [
    "<b> Missing Value Imputation for 'Medical_History_1' </b>"
   ]
  },
  {
   "cell_type": "code",
   "execution_count": 80,
   "metadata": {},
   "outputs": [],
   "source": [
    "data['Medical_History_1'] = data['Medical_History_1'].fillna(data['Medical_History_1'].mode()[0])"
   ]
  },
  {
   "cell_type": "code",
   "execution_count": 82,
   "metadata": {},
   "outputs": [
    {
     "data": {
      "text/html": [
       "<div>\n",
       "<style scoped>\n",
       "    .dataframe tbody tr th:only-of-type {\n",
       "        vertical-align: middle;\n",
       "    }\n",
       "\n",
       "    .dataframe tbody tr th {\n",
       "        vertical-align: top;\n",
       "    }\n",
       "\n",
       "    .dataframe thead th {\n",
       "        text-align: right;\n",
       "    }\n",
       "</style>\n",
       "<table border=\"1\" class=\"dataframe\">\n",
       "  <thead>\n",
       "    <tr style=\"text-align: right;\">\n",
       "      <th></th>\n",
       "      <th>Percent_Null</th>\n",
       "    </tr>\n",
       "  </thead>\n",
       "  <tbody>\n",
       "  </tbody>\n",
       "</table>\n",
       "</div>"
      ],
      "text/plain": [
       "Empty DataFrame\n",
       "Columns: [Percent_Null]\n",
       "Index: []"
      ]
     },
     "execution_count": 82,
     "metadata": {},
     "output_type": "execute_result"
    }
   ],
   "source": [
    "#Checking for Null Values:\n",
    "null_function()"
   ]
  },
  {
   "cell_type": "markdown",
   "metadata": {},
   "source": [
    "<b>From the above information, we can infer that there are no null values in the dataset.</b>"
   ]
  },
  {
   "cell_type": "markdown",
   "metadata": {},
   "source": [
    "### Dropping unnecessary Columns from the Dataset:"
   ]
  },
  {
   "cell_type": "markdown",
   "metadata": {},
   "source": [
    "Columns like 'Id' can be dropped which only a record identification number."
   ]
  },
  {
   "cell_type": "code",
   "execution_count": 83,
   "metadata": {},
   "outputs": [],
   "source": [
    "data = data.drop(['Id'],axis=1)"
   ]
  },
  {
   "cell_type": "code",
   "execution_count": 84,
   "metadata": {},
   "outputs": [
    {
     "data": {
      "text/html": [
       "<div>\n",
       "<style scoped>\n",
       "    .dataframe tbody tr th:only-of-type {\n",
       "        vertical-align: middle;\n",
       "    }\n",
       "\n",
       "    .dataframe tbody tr th {\n",
       "        vertical-align: top;\n",
       "    }\n",
       "\n",
       "    .dataframe thead th {\n",
       "        text-align: right;\n",
       "    }\n",
       "</style>\n",
       "<table border=\"1\" class=\"dataframe\">\n",
       "  <thead>\n",
       "    <tr style=\"text-align: right;\">\n",
       "      <th></th>\n",
       "      <th>Product_Info_1</th>\n",
       "      <th>Product_Info_2</th>\n",
       "      <th>Product_Info_3</th>\n",
       "      <th>Product_Info_4</th>\n",
       "      <th>Product_Info_5</th>\n",
       "      <th>Product_Info_6</th>\n",
       "      <th>Product_Info_7</th>\n",
       "      <th>Ins_Age</th>\n",
       "      <th>Ht</th>\n",
       "      <th>Wt</th>\n",
       "      <th>...</th>\n",
       "      <th>Medical_Keyword_40</th>\n",
       "      <th>Medical_Keyword_41</th>\n",
       "      <th>Medical_Keyword_42</th>\n",
       "      <th>Medical_Keyword_43</th>\n",
       "      <th>Medical_Keyword_44</th>\n",
       "      <th>Medical_Keyword_45</th>\n",
       "      <th>Medical_Keyword_46</th>\n",
       "      <th>Medical_Keyword_47</th>\n",
       "      <th>Medical_Keyword_48</th>\n",
       "      <th>Response</th>\n",
       "    </tr>\n",
       "  </thead>\n",
       "  <tbody>\n",
       "    <tr>\n",
       "      <th>0</th>\n",
       "      <td>1</td>\n",
       "      <td>D3</td>\n",
       "      <td>10</td>\n",
       "      <td>0.076923</td>\n",
       "      <td>2</td>\n",
       "      <td>1</td>\n",
       "      <td>1</td>\n",
       "      <td>0.641791</td>\n",
       "      <td>0.581818</td>\n",
       "      <td>0.148536</td>\n",
       "      <td>...</td>\n",
       "      <td>0</td>\n",
       "      <td>0</td>\n",
       "      <td>0</td>\n",
       "      <td>0</td>\n",
       "      <td>0</td>\n",
       "      <td>0</td>\n",
       "      <td>0</td>\n",
       "      <td>0</td>\n",
       "      <td>0</td>\n",
       "      <td>8</td>\n",
       "    </tr>\n",
       "    <tr>\n",
       "      <th>1</th>\n",
       "      <td>1</td>\n",
       "      <td>A1</td>\n",
       "      <td>26</td>\n",
       "      <td>0.076923</td>\n",
       "      <td>2</td>\n",
       "      <td>3</td>\n",
       "      <td>1</td>\n",
       "      <td>0.059701</td>\n",
       "      <td>0.600000</td>\n",
       "      <td>0.131799</td>\n",
       "      <td>...</td>\n",
       "      <td>0</td>\n",
       "      <td>0</td>\n",
       "      <td>0</td>\n",
       "      <td>0</td>\n",
       "      <td>0</td>\n",
       "      <td>0</td>\n",
       "      <td>0</td>\n",
       "      <td>0</td>\n",
       "      <td>0</td>\n",
       "      <td>4</td>\n",
       "    </tr>\n",
       "    <tr>\n",
       "      <th>2</th>\n",
       "      <td>1</td>\n",
       "      <td>E1</td>\n",
       "      <td>26</td>\n",
       "      <td>0.076923</td>\n",
       "      <td>2</td>\n",
       "      <td>3</td>\n",
       "      <td>1</td>\n",
       "      <td>0.029851</td>\n",
       "      <td>0.745455</td>\n",
       "      <td>0.288703</td>\n",
       "      <td>...</td>\n",
       "      <td>0</td>\n",
       "      <td>0</td>\n",
       "      <td>0</td>\n",
       "      <td>0</td>\n",
       "      <td>0</td>\n",
       "      <td>0</td>\n",
       "      <td>0</td>\n",
       "      <td>0</td>\n",
       "      <td>0</td>\n",
       "      <td>8</td>\n",
       "    </tr>\n",
       "    <tr>\n",
       "      <th>3</th>\n",
       "      <td>1</td>\n",
       "      <td>D4</td>\n",
       "      <td>10</td>\n",
       "      <td>0.487179</td>\n",
       "      <td>2</td>\n",
       "      <td>3</td>\n",
       "      <td>1</td>\n",
       "      <td>0.164179</td>\n",
       "      <td>0.672727</td>\n",
       "      <td>0.205021</td>\n",
       "      <td>...</td>\n",
       "      <td>0</td>\n",
       "      <td>0</td>\n",
       "      <td>0</td>\n",
       "      <td>0</td>\n",
       "      <td>0</td>\n",
       "      <td>0</td>\n",
       "      <td>0</td>\n",
       "      <td>0</td>\n",
       "      <td>0</td>\n",
       "      <td>8</td>\n",
       "    </tr>\n",
       "    <tr>\n",
       "      <th>4</th>\n",
       "      <td>1</td>\n",
       "      <td>D2</td>\n",
       "      <td>26</td>\n",
       "      <td>0.230769</td>\n",
       "      <td>2</td>\n",
       "      <td>3</td>\n",
       "      <td>1</td>\n",
       "      <td>0.417910</td>\n",
       "      <td>0.654545</td>\n",
       "      <td>0.234310</td>\n",
       "      <td>...</td>\n",
       "      <td>0</td>\n",
       "      <td>0</td>\n",
       "      <td>0</td>\n",
       "      <td>0</td>\n",
       "      <td>0</td>\n",
       "      <td>0</td>\n",
       "      <td>0</td>\n",
       "      <td>0</td>\n",
       "      <td>0</td>\n",
       "      <td>8</td>\n",
       "    </tr>\n",
       "  </tbody>\n",
       "</table>\n",
       "<p>5 rows × 118 columns</p>\n",
       "</div>"
      ],
      "text/plain": [
       "   Product_Info_1 Product_Info_2  Product_Info_3  Product_Info_4  \\\n",
       "0               1             D3              10        0.076923   \n",
       "1               1             A1              26        0.076923   \n",
       "2               1             E1              26        0.076923   \n",
       "3               1             D4              10        0.487179   \n",
       "4               1             D2              26        0.230769   \n",
       "\n",
       "   Product_Info_5  Product_Info_6  Product_Info_7   Ins_Age        Ht  \\\n",
       "0               2               1               1  0.641791  0.581818   \n",
       "1               2               3               1  0.059701  0.600000   \n",
       "2               2               3               1  0.029851  0.745455   \n",
       "3               2               3               1  0.164179  0.672727   \n",
       "4               2               3               1  0.417910  0.654545   \n",
       "\n",
       "         Wt  ...  Medical_Keyword_40  Medical_Keyword_41  Medical_Keyword_42  \\\n",
       "0  0.148536  ...                   0                   0                   0   \n",
       "1  0.131799  ...                   0                   0                   0   \n",
       "2  0.288703  ...                   0                   0                   0   \n",
       "3  0.205021  ...                   0                   0                   0   \n",
       "4  0.234310  ...                   0                   0                   0   \n",
       "\n",
       "   Medical_Keyword_43  Medical_Keyword_44  Medical_Keyword_45  \\\n",
       "0                   0                   0                   0   \n",
       "1                   0                   0                   0   \n",
       "2                   0                   0                   0   \n",
       "3                   0                   0                   0   \n",
       "4                   0                   0                   0   \n",
       "\n",
       "   Medical_Keyword_46  Medical_Keyword_47  Medical_Keyword_48  Response  \n",
       "0                   0                   0                   0         8  \n",
       "1                   0                   0                   0         4  \n",
       "2                   0                   0                   0         8  \n",
       "3                   0                   0                   0         8  \n",
       "4                   0                   0                   0         8  \n",
       "\n",
       "[5 rows x 118 columns]"
      ]
     },
     "execution_count": 84,
     "metadata": {},
     "output_type": "execute_result"
    }
   ],
   "source": [
    "data.head()"
   ]
  },
  {
   "cell_type": "markdown",
   "metadata": {},
   "source": [
    "From the above table, we can see that there is 'Product_Info_2' Column which is still Categorical, and it has to be encoded.\n",
    "\n",
    "Since it is Nominal Categorical Variable, it is splited with characters into one column and numbers into another and finally each column is encoded.\n",
    "\n",
    "After encoding is done the original column 'Product_Info_2' is dropped."
   ]
  },
  {
   "cell_type": "markdown",
   "metadata": {},
   "source": [
    "<b> Working with 'Product_Info_2' </b>"
   ]
  },
  {
   "cell_type": "code",
   "execution_count": 85,
   "metadata": {},
   "outputs": [],
   "source": [
    "data['Product_Info_2_char'] = data.Product_Info_2.str[0]\n",
    "data['Product_Info_2_num'] = data.Product_Info_2.str[1]"
   ]
  },
  {
   "cell_type": "code",
   "execution_count": 86,
   "metadata": {},
   "outputs": [],
   "source": [
    "data['Product_Info_2_char'] = pd.factorize(data['Product_Info_2_char'])[0]\n",
    "data['Product_Info_2_num'] = pd.factorize(data['Product_Info_2_num'])[0]"
   ]
  },
  {
   "cell_type": "code",
   "execution_count": 87,
   "metadata": {},
   "outputs": [],
   "source": [
    "# Dropping 'Product_Info_2' Column\n",
    "data = data.drop('Product_Info_2',axis=1)"
   ]
  },
  {
   "cell_type": "code",
   "execution_count": 88,
   "metadata": {},
   "outputs": [
    {
     "data": {
      "text/html": [
       "<div>\n",
       "<style scoped>\n",
       "    .dataframe tbody tr th:only-of-type {\n",
       "        vertical-align: middle;\n",
       "    }\n",
       "\n",
       "    .dataframe tbody tr th {\n",
       "        vertical-align: top;\n",
       "    }\n",
       "\n",
       "    .dataframe thead th {\n",
       "        text-align: right;\n",
       "    }\n",
       "</style>\n",
       "<table border=\"1\" class=\"dataframe\">\n",
       "  <thead>\n",
       "    <tr style=\"text-align: right;\">\n",
       "      <th></th>\n",
       "      <th>Product_Info_1</th>\n",
       "      <th>Product_Info_3</th>\n",
       "      <th>Product_Info_4</th>\n",
       "      <th>Product_Info_5</th>\n",
       "      <th>Product_Info_6</th>\n",
       "      <th>Product_Info_7</th>\n",
       "      <th>Ins_Age</th>\n",
       "      <th>Ht</th>\n",
       "      <th>Wt</th>\n",
       "      <th>BMI</th>\n",
       "      <th>...</th>\n",
       "      <th>Medical_Keyword_42</th>\n",
       "      <th>Medical_Keyword_43</th>\n",
       "      <th>Medical_Keyword_44</th>\n",
       "      <th>Medical_Keyword_45</th>\n",
       "      <th>Medical_Keyword_46</th>\n",
       "      <th>Medical_Keyword_47</th>\n",
       "      <th>Medical_Keyword_48</th>\n",
       "      <th>Response</th>\n",
       "      <th>Product_Info_2_char</th>\n",
       "      <th>Product_Info_2_num</th>\n",
       "    </tr>\n",
       "  </thead>\n",
       "  <tbody>\n",
       "    <tr>\n",
       "      <th>0</th>\n",
       "      <td>1</td>\n",
       "      <td>10</td>\n",
       "      <td>0.076923</td>\n",
       "      <td>2</td>\n",
       "      <td>1</td>\n",
       "      <td>1</td>\n",
       "      <td>0.641791</td>\n",
       "      <td>0.581818</td>\n",
       "      <td>0.148536</td>\n",
       "      <td>0.323008</td>\n",
       "      <td>...</td>\n",
       "      <td>0</td>\n",
       "      <td>0</td>\n",
       "      <td>0</td>\n",
       "      <td>0</td>\n",
       "      <td>0</td>\n",
       "      <td>0</td>\n",
       "      <td>0</td>\n",
       "      <td>8</td>\n",
       "      <td>0</td>\n",
       "      <td>0</td>\n",
       "    </tr>\n",
       "    <tr>\n",
       "      <th>1</th>\n",
       "      <td>1</td>\n",
       "      <td>26</td>\n",
       "      <td>0.076923</td>\n",
       "      <td>2</td>\n",
       "      <td>3</td>\n",
       "      <td>1</td>\n",
       "      <td>0.059701</td>\n",
       "      <td>0.600000</td>\n",
       "      <td>0.131799</td>\n",
       "      <td>0.272288</td>\n",
       "      <td>...</td>\n",
       "      <td>0</td>\n",
       "      <td>0</td>\n",
       "      <td>0</td>\n",
       "      <td>0</td>\n",
       "      <td>0</td>\n",
       "      <td>0</td>\n",
       "      <td>0</td>\n",
       "      <td>4</td>\n",
       "      <td>1</td>\n",
       "      <td>1</td>\n",
       "    </tr>\n",
       "    <tr>\n",
       "      <th>2</th>\n",
       "      <td>1</td>\n",
       "      <td>26</td>\n",
       "      <td>0.076923</td>\n",
       "      <td>2</td>\n",
       "      <td>3</td>\n",
       "      <td>1</td>\n",
       "      <td>0.029851</td>\n",
       "      <td>0.745455</td>\n",
       "      <td>0.288703</td>\n",
       "      <td>0.428780</td>\n",
       "      <td>...</td>\n",
       "      <td>0</td>\n",
       "      <td>0</td>\n",
       "      <td>0</td>\n",
       "      <td>0</td>\n",
       "      <td>0</td>\n",
       "      <td>0</td>\n",
       "      <td>0</td>\n",
       "      <td>8</td>\n",
       "      <td>2</td>\n",
       "      <td>1</td>\n",
       "    </tr>\n",
       "    <tr>\n",
       "      <th>3</th>\n",
       "      <td>1</td>\n",
       "      <td>10</td>\n",
       "      <td>0.487179</td>\n",
       "      <td>2</td>\n",
       "      <td>3</td>\n",
       "      <td>1</td>\n",
       "      <td>0.164179</td>\n",
       "      <td>0.672727</td>\n",
       "      <td>0.205021</td>\n",
       "      <td>0.352438</td>\n",
       "      <td>...</td>\n",
       "      <td>0</td>\n",
       "      <td>0</td>\n",
       "      <td>0</td>\n",
       "      <td>0</td>\n",
       "      <td>0</td>\n",
       "      <td>0</td>\n",
       "      <td>0</td>\n",
       "      <td>8</td>\n",
       "      <td>0</td>\n",
       "      <td>2</td>\n",
       "    </tr>\n",
       "    <tr>\n",
       "      <th>4</th>\n",
       "      <td>1</td>\n",
       "      <td>26</td>\n",
       "      <td>0.230769</td>\n",
       "      <td>2</td>\n",
       "      <td>3</td>\n",
       "      <td>1</td>\n",
       "      <td>0.417910</td>\n",
       "      <td>0.654545</td>\n",
       "      <td>0.234310</td>\n",
       "      <td>0.424046</td>\n",
       "      <td>...</td>\n",
       "      <td>0</td>\n",
       "      <td>0</td>\n",
       "      <td>0</td>\n",
       "      <td>0</td>\n",
       "      <td>0</td>\n",
       "      <td>0</td>\n",
       "      <td>0</td>\n",
       "      <td>8</td>\n",
       "      <td>0</td>\n",
       "      <td>3</td>\n",
       "    </tr>\n",
       "  </tbody>\n",
       "</table>\n",
       "<p>5 rows × 119 columns</p>\n",
       "</div>"
      ],
      "text/plain": [
       "   Product_Info_1  Product_Info_3  Product_Info_4  Product_Info_5  \\\n",
       "0               1              10        0.076923               2   \n",
       "1               1              26        0.076923               2   \n",
       "2               1              26        0.076923               2   \n",
       "3               1              10        0.487179               2   \n",
       "4               1              26        0.230769               2   \n",
       "\n",
       "   Product_Info_6  Product_Info_7   Ins_Age        Ht        Wt       BMI  \\\n",
       "0               1               1  0.641791  0.581818  0.148536  0.323008   \n",
       "1               3               1  0.059701  0.600000  0.131799  0.272288   \n",
       "2               3               1  0.029851  0.745455  0.288703  0.428780   \n",
       "3               3               1  0.164179  0.672727  0.205021  0.352438   \n",
       "4               3               1  0.417910  0.654545  0.234310  0.424046   \n",
       "\n",
       "   ...  Medical_Keyword_42  Medical_Keyword_43  Medical_Keyword_44  \\\n",
       "0  ...                   0                   0                   0   \n",
       "1  ...                   0                   0                   0   \n",
       "2  ...                   0                   0                   0   \n",
       "3  ...                   0                   0                   0   \n",
       "4  ...                   0                   0                   0   \n",
       "\n",
       "   Medical_Keyword_45  Medical_Keyword_46  Medical_Keyword_47  \\\n",
       "0                   0                   0                   0   \n",
       "1                   0                   0                   0   \n",
       "2                   0                   0                   0   \n",
       "3                   0                   0                   0   \n",
       "4                   0                   0                   0   \n",
       "\n",
       "   Medical_Keyword_48  Response  Product_Info_2_char  Product_Info_2_num  \n",
       "0                   0         8                    0                   0  \n",
       "1                   0         4                    1                   1  \n",
       "2                   0         8                    2                   1  \n",
       "3                   0         8                    0                   2  \n",
       "4                   0         8                    0                   3  \n",
       "\n",
       "[5 rows x 119 columns]"
      ]
     },
     "execution_count": 88,
     "metadata": {},
     "output_type": "execute_result"
    }
   ],
   "source": [
    "data.head()"
   ]
  },
  {
   "cell_type": "markdown",
   "metadata": {},
   "source": [
    "### Finally the Data is Cleaned and ready for modelling."
   ]
  },
  {
   "cell_type": "code",
   "execution_count": 90,
   "metadata": {},
   "outputs": [
    {
     "data": {
      "text/plain": [
       "(59381, 119)"
      ]
     },
     "execution_count": 90,
     "metadata": {},
     "output_type": "execute_result"
    }
   ],
   "source": [
    "#Checking the Shape of the Final Data:\n",
    "data.shape"
   ]
  },
  {
   "cell_type": "markdown",
   "metadata": {},
   "source": [
    "### Dividing the Independent Variables and Dependent Variable from the Dataset"
   ]
  },
  {
   "cell_type": "code",
   "execution_count": 91,
   "metadata": {},
   "outputs": [],
   "source": [
    "X = data.drop('Response',axis=1)\n",
    "y = data.Response"
   ]
  },
  {
   "cell_type": "markdown",
   "metadata": {},
   "source": [
    "## Modelling:\n",
    "1. Baseline Model\n",
    "2. Base model without SMOTE Technique(with imbalanced data)\n",
    "3. Modelling with Hyper-parameters and without SMOTE Technique(with imbalanced data)\n",
    "4. Base model with SMOTE Technique(with balanced data)\n",
    "5. Modelling with Hyper-parameters and with SMOTE Technique(with balanced data)\n",
    "\n",
    "Classification Models used:\n",
    "    1. Logistic Regression\n",
    "    2. k Nearest Neighbors\n",
    "    3. Decision Tree\n",
    "    4. Random Forest"
   ]
  },
  {
   "cell_type": "code",
   "execution_count": 93,
   "metadata": {},
   "outputs": [],
   "source": [
    "# Splitting the data into Train and Test\n",
    "X_train,X_test,y_train,y_test = train_test_split(X, y, test_size=0.3,random_state=2)"
   ]
  },
  {
   "cell_type": "code",
   "execution_count": 94,
   "metadata": {},
   "outputs": [
    {
     "name": "stderr",
     "output_type": "stream",
     "text": [
      "C:\\Users\\Sree Charan\\Anaconda3\\lib\\site-packages\\sklearn\\linear_model\\logistic.py:432: FutureWarning: Default solver will be changed to 'lbfgs' in 0.22. Specify a solver to silence this warning.\n",
      "  FutureWarning)\n",
      "C:\\Users\\Sree Charan\\Anaconda3\\lib\\site-packages\\sklearn\\linear_model\\logistic.py:469: FutureWarning: Default multi_class will be changed to 'auto' in 0.22. Specify the multi_class option to silence this warning.\n",
      "  \"this warning.\", FutureWarning)\n",
      "C:\\Users\\Sree Charan\\Anaconda3\\lib\\site-packages\\sklearn\\ensemble\\forest.py:245: FutureWarning: The default value of n_estimators will change from 10 in version 0.20 to 100 in 0.22.\n",
      "  \"10 in version 0.20 to 100 in 0.22.\", FutureWarning)\n"
     ]
    },
    {
     "name": "stdout",
     "output_type": "stream",
     "text": [
      "+------------------------+---------------------+---------------------+---------------------+---------------------+---------------------+\n",
      "|       Model name       |    Accuracy Score   |   Precision Score   |     Recall Score    |       F1_score      |  Cohen Kappa Score  |\n",
      "+------------------------+---------------------+---------------------+---------------------+---------------------+---------------------+\n",
      "|   LogisticRegression   |  0.4784170642716812 | 0.44527062032487086 |  0.4784170642716812 | 0.43506289938093284 | 0.31533925432715126 |\n",
      "|          KNN           |  0.3023294976143699 |  0.2671781804187402 |  0.3023294976143699 | 0.27925532559801497 | 0.31533925432715126 |\n",
      "| DecisionTreeClassifier | 0.40157170923379176 |  0.4025837099867676 | 0.40157170923379176 | 0.40199902889835876 | 0.31533925432715126 |\n",
      "| RandomForestClassifier |  0.4755543081672748 | 0.44833908828777996 |  0.4755543081672748 |  0.4564124611431431 | 0.31533925432715126 |\n",
      "+------------------------+---------------------+---------------------+---------------------+---------------------+---------------------+\n"
     ]
    }
   ],
   "source": [
    "# Modelling and Evaluation for Base Model without SMOTE:\n",
    "\n",
    "\n",
    "report= PrettyTable()\n",
    "report.field_names=['Model name','Accuracy Score','Precision Score','Recall Score','F1_score','Cohen Kappa Score']\n",
    "\n",
    "\n",
    "classifier=['LogisticRegression','KNN','DecisionTreeClassifier','RandomForestClassifier']\n",
    "accuracy=[]\n",
    "precision=[]\n",
    "recall=[]\n",
    "f1_score=[]\n",
    "kappa=[]\n",
    "\n",
    "for i in classifier:\n",
    "    if i=='LogisticRegression':\n",
    "        model1=LogisticRegression()\n",
    "        model1.fit(X_train,y_train)\n",
    "        log_pred=pd.DataFrame(model1.predict(X_test))\n",
    "        #Evaluation metrics\n",
    "        report.add_row([i,\n",
    "                    metrics.accuracy_score(y_test,log_pred),\n",
    "                    metrics.precision_score(y_test,log_pred,average='weighted'),\n",
    "                    metrics.recall_score(y_test,log_pred,average='weighted'),\n",
    "                    metrics.f1_score(y_test,log_pred,average='weighted'),\n",
    "                    metrics.cohen_kappa_score(y_test,log_pred)])\n",
    "        \n",
    "    elif i=='KNN': \n",
    "        model2=KNeighborsClassifier()\n",
    "        model2.fit(X_train,y_train)\n",
    "        knn_pred=model2.predict(X_test)\n",
    "        #Evaluation metrics\n",
    "        report.add_row([i,\n",
    "                    metrics.accuracy_score(y_test,knn_pred),\n",
    "                    metrics.precision_score(y_test,knn_pred,average='weighted'),\n",
    "                    metrics.recall_score(y_test,knn_pred,average='weighted'),\n",
    "                    metrics.f1_score(y_test,knn_pred,average='weighted'),\n",
    "                    metrics.cohen_kappa_score(y_test,log_pred)])\n",
    "        \n",
    "    elif i=='DecisionTreeClassifier':\n",
    "        model3=DecisionTreeClassifier()\n",
    "        model3.fit(X_train,y_train)\n",
    "        dec_pred=model3.predict(X_test)\n",
    "        #Evaluation metrics\n",
    "        report.add_row([i,\n",
    "                    metrics.accuracy_score(y_test,dec_pred),\n",
    "                    metrics.precision_score(y_test,dec_pred,average='weighted'),\n",
    "                    metrics.recall_score(y_test,dec_pred,average='weighted'),\n",
    "                    metrics.f1_score(y_test,dec_pred,average='weighted'),\n",
    "                    metrics.cohen_kappa_score(y_test,log_pred)])\n",
    "        \n",
    "    elif i=='RandomForestClassifier':\n",
    "        model4=RandomForestClassifier()\n",
    "        model4.fit(X_train,y_train)\n",
    "        random_pred=model4.predict(X_test)\n",
    "        #Evaluation metrics\n",
    "        report.add_row([i,\n",
    "                    metrics.accuracy_score(y_test,random_pred),\n",
    "                    metrics.precision_score(y_test,random_pred,average='weighted'),\n",
    "                    metrics.recall_score(y_test,random_pred,average='weighted'),\n",
    "                    metrics.f1_score(y_test,random_pred,average='weighted'),\n",
    "                    metrics.cohen_kappa_score(y_test,log_pred)])\n",
    "print(report)\n"
   ]
  },
  {
   "cell_type": "code",
   "execution_count": 95,
   "metadata": {},
   "outputs": [
    {
     "name": "stdout",
     "output_type": "stream",
     "text": [
      "+------------------------+-----------------------------------------------------------------------------------+---------------------+\n",
      "|       Model name       |                                  Best Parameters                                  |      Best Score     |\n",
      "+------------------------+-----------------------------------------------------------------------------------+---------------------+\n",
      "|          KNN           |                            {'p': 28, 'n_neighbors': 49}                           | 0.34083144878025307 |\n",
      "| DecisionTreeClassifier | {'min_samples_leaf': 3, 'max_leaf_nodes': 9, 'max_depth': 9, 'criterion': 'gini'} |  0.4685800894962229 |\n",
      "| RandomForestClassifier |            {'n_estimators': 88, 'max_features': 9, 'criterion': 'gini'}           |  0.5262474137516239 |\n",
      "+------------------------+-----------------------------------------------------------------------------------+---------------------+\n"
     ]
    }
   ],
   "source": [
    "## Code to find the best hyper parameters for the KNN and DecisionTree and Random forest\n",
    "\n",
    "from sklearn.model_selection import RandomizedSearchCV\n",
    "## code to find the best model for the dataset\n",
    "\n",
    "\n",
    "best_par= PrettyTable()\n",
    "best_par.field_names=['Model name','Best Parameters','Best Score']\n",
    "\n",
    "\n",
    "classifier=['KNN','DecisionTreeClassifier','RandomForestClassifier']\n",
    "\n",
    "\n",
    "for i in classifier:\n",
    "    if i=='KNN': \n",
    "        grid1={'n_neighbors': np.arange(1,50,2),'p': np.arange(1,50)}\n",
    "        ran_search1=RandomizedSearchCV(model2,grid1,cv=5)\n",
    "        ran_search1.fit(X_train,y_train)\n",
    "        best_par.add_row([i,\n",
    "                          ran_search1.best_params_,\n",
    "                          ran_search1.best_score_])\n",
    "        \n",
    "    elif i=='DecisionTreeClassifier':\n",
    "        grid2={'criterion':['gini','entropy'],'max_depth': np.arange(2,10),'max_leaf_nodes':np.arange(2,10),'min_samples_leaf':np.arange(2,10)}\n",
    "        ran_search2=RandomizedSearchCV(model3,grid2,cv=5)\n",
    "        ran_search2.fit(X_train,y_train)\n",
    "        best_par.add_row([i,\n",
    "                          ran_search2.best_params_,\n",
    "                          ran_search2.best_score_])\n",
    "        \n",
    "    elif i=='RandomForestClassifier':\n",
    "        grid3={'criterion':['gini','entropy'],'n_estimators':np.arange(1,100),'max_features':np.arange(1,10)}\n",
    "        ran_search3=RandomizedSearchCV(model4,grid3,cv=3)\n",
    "        ran_search3.fit(X_train,y_train)\n",
    "        best_par.add_row([i,\n",
    "                          ran_search3.best_params_,\n",
    "                          ran_search3.best_score_])\n",
    "        \n",
    "print(best_par)\n"
   ]
  },
  {
   "cell_type": "code",
   "execution_count": 99,
   "metadata": {},
   "outputs": [
    {
     "name": "stdout",
     "output_type": "stream",
     "text": [
      "Accuracy Score: 0.5264664608476003\n",
      "Precision Score: 0.5074599971439351\n",
      "Recall Score: 0.5264664608476003\n",
      "F1 Score: 0.4901184495255392\n",
      "[[ 354  306    2    1  165  447  185  458]\n",
      " [ 185  505    0    4  215  464  175  408]\n",
      " [  23   27    7    2   86  126   12   45]\n",
      " [   7    1    0    9    0  183   29  218]\n",
      " [  65  161    1    0  840  360   60  155]\n",
      " [ 141  120    0    4  165 1717  348  765]\n",
      " [  56   26    0    1   16  617  781  900]\n",
      " [  16   11    0    3   12  482  177 5166]]\n",
      "              precision    recall  f1-score   support\n",
      "\n",
      "           1       0.42      0.18      0.26      1918\n",
      "           2       0.44      0.26      0.32      1956\n",
      "           3       0.70      0.02      0.04       328\n",
      "           4       0.38      0.02      0.04       447\n",
      "           5       0.56      0.51      0.53      1642\n",
      "           6       0.39      0.53      0.45      3260\n",
      "           7       0.44      0.33      0.38      2397\n",
      "           8       0.64      0.88      0.74      5867\n",
      "\n",
      "    accuracy                           0.53     17815\n",
      "   macro avg       0.49      0.34      0.34     17815\n",
      "weighted avg       0.51      0.53      0.49     17815\n",
      "\n"
     ]
    }
   ],
   "source": [
    "# Since Random Forest Classifier outperformed, let's use it with parameter obtained and test it with unseen test data.\n",
    "model4=RandomForestClassifier(n_estimators=88,max_features=9,criterion='gini')\n",
    "model4.fit(X_train,y_train)\n",
    "random_pred=model4.predict(X_test)\n",
    "    #Evaluation metrics\n",
    "print(\"Accuracy Score:\",metrics.accuracy_score(y_test,random_pred))\n",
    "print(\"Precision Score:\",metrics.precision_score(y_test,random_pred,average='weighted'))\n",
    "print(\"Recall Score:\",metrics.recall_score(y_test,random_pred,average='weighted'))\n",
    "print(\"F1 Score:\",metrics.f1_score(y_test,random_pred,average='weighted'))\n",
    "\n",
    "print(metrics.confusion_matrix(y_test,random_pred))\n",
    "\n",
    "print(metrics.classification_report(y_test,random_pred))"
   ]
  },
  {
   "cell_type": "markdown",
   "metadata": {},
   "source": [
    "### Processing the Data further to improve the Score:"
   ]
  },
  {
   "cell_type": "markdown",
   "metadata": {},
   "source": [
    "#### Technique used to improve the Score : Sampling (SMOTE)"
   ]
  },
  {
   "cell_type": "code",
   "execution_count": 101,
   "metadata": {},
   "outputs": [
    {
     "data": {
      "text/plain": [
       "<matplotlib.axes._subplots.AxesSubplot at 0x1f6ce7c4240>"
      ]
     },
     "execution_count": 101,
     "metadata": {},
     "output_type": "execute_result"
    },
    {
     "data": {
      "image/png": "[encoded data removed]",
      "text/plain": [
       "<Figure size 432x288 with 1 Axes>"
      ]
     },
     "metadata": {
      "needs_background": "light"
     },
     "output_type": "display_data"
    }
   ],
   "source": [
    "#Checking the distribution of Target Variable:\n",
    "sns.countplot(data.Response)"
   ]
  },
  {
   "cell_type": "markdown",
   "metadata": {},
   "source": [
    "From, the above figure we can infer that data is imbalanced and to make it Balanced we are used SMOTE Sampling Technique:"
   ]
  },
  {
   "cell_type": "code",
   "execution_count": 102,
   "metadata": {},
   "outputs": [],
   "source": [
    "# SMOTE Sampling Technique:\n",
    "smote = SMOTE()\n",
    "X_sm, y_sm = smote.fit_sample(X,y)"
   ]
  },
  {
   "cell_type": "markdown",
   "metadata": {},
   "source": [
    "Now, checking for the data distribution:"
   ]
  },
  {
   "cell_type": "code",
   "execution_count": 103,
   "metadata": {},
   "outputs": [
    {
     "data": {
      "text/plain": [
       "<matplotlib.axes._subplots.AxesSubplot at 0x1f6d1ed05f8>"
      ]
     },
     "execution_count": 103,
     "metadata": {},
     "output_type": "execute_result"
    },
    {
     "data": {
      "image/png": "[encoded data removed]",
      "text/plain": [
       "<Figure size 432x288 with 1 Axes>"
      ]
     },
     "metadata": {
      "needs_background": "light"
     },
     "output_type": "display_data"
    }
   ],
   "source": [
    "sns.countplot(y_sm)"
   ]
  },
  {
   "cell_type": "markdown",
   "metadata": {},
   "source": [
    "From, the above figure we can infer that data is balanced."
   ]
  },
  {
   "cell_type": "markdown",
   "metadata": {},
   "source": [
    "### Modelling using balanced Data:"
   ]
  },
  {
   "cell_type": "code",
   "execution_count": 104,
   "metadata": {},
   "outputs": [],
   "source": [
    "# Splitting the Balanced Data for finally modelling:\n",
    "X_sm_train, X_sm_test, y_sm_train, y_sm_test = train_test_split(X_sm,y_sm,test_size=0.3,random_state=2)"
   ]
  },
  {
   "cell_type": "code",
   "execution_count": 105,
   "metadata": {},
   "outputs": [
    {
     "name": "stderr",
     "output_type": "stream",
     "text": [
      "C:\\Users\\Sree Charan\\Anaconda3\\lib\\site-packages\\sklearn\\linear_model\\logistic.py:432: FutureWarning: Default solver will be changed to 'lbfgs' in 0.22. Specify a solver to silence this warning.\n",
      "  FutureWarning)\n",
      "C:\\Users\\Sree Charan\\Anaconda3\\lib\\site-packages\\sklearn\\linear_model\\logistic.py:469: FutureWarning: Default multi_class will be changed to 'auto' in 0.22. Specify the multi_class option to silence this warning.\n",
      "  \"this warning.\", FutureWarning)\n",
      "C:\\Users\\Sree Charan\\Anaconda3\\lib\\site-packages\\sklearn\\ensemble\\forest.py:245: FutureWarning: The default value of n_estimators will change from 10 in version 0.20 to 100 in 0.22.\n",
      "  \"10 in version 0.20 to 100 in 0.22.\", FutureWarning)\n"
     ]
    },
    {
     "name": "stdout",
     "output_type": "stream",
     "text": [
      "+------------------------+---------------------+---------------------+---------------------+--------------------+--------------------+\n",
      "|       Model name       |    Accuracy Score   |   Precision Score   |     Recall Score    |      F1_score      | Cohen Kappa Score  |\n",
      "+------------------------+---------------------+---------------------+---------------------+--------------------+--------------------+\n",
      "|   LogisticRegression   | 0.44357976653696496 | 0.42337325259880515 | 0.44357976653696496 | 0.4222464465672904 | 0.3640411192224021 |\n",
      "|          KNN           |  0.6783469448839099 |  0.6594979454952857 |  0.6783469448839099 | 0.6476935537191046 | 0.3640411192224021 |\n",
      "| DecisionTreeClassifier |  0.5325394449908069 |  0.5297386252073852 |  0.5325394449908069 | 0.5309696946139719 | 0.3640411192224021 |\n",
      "| RandomForestClassifier |  0.6495275152862702 |  0.638296838267104  |  0.6495275152862702 | 0.641901433669651  | 0.3640411192224021 |\n",
      "+------------------------+---------------------+---------------------+---------------------+--------------------+--------------------+\n"
     ]
    }
   ],
   "source": [
    "# Modelling and Evaluation for Base Model without SMOTE:\n",
    "\n",
    "\n",
    "report= PrettyTable()\n",
    "report.field_names=['Model name','Accuracy Score','Precision Score','Recall Score','F1_score','Cohen Kappa Score']\n",
    "\n",
    "\n",
    "classifier=['LogisticRegression','KNN','DecisionTreeClassifier','RandomForestClassifier']\n",
    "accuracy=[]\n",
    "precision=[]\n",
    "recall=[]\n",
    "f1_score=[]\n",
    "kappa=[]\n",
    "\n",
    "for i in classifier:\n",
    "    if i=='LogisticRegression':\n",
    "        model1=LogisticRegression()\n",
    "        model1.fit(X_sm_train,y_sm_train)\n",
    "        log_pred=pd.DataFrame(model1.predict(X_sm_test))\n",
    "        #Evaluation metrics\n",
    "        report.add_row([i,\n",
    "                    metrics.accuracy_score(y_sm_test,log_pred),\n",
    "                    metrics.precision_score(y_sm_test,log_pred,average='weighted'),\n",
    "                    metrics.recall_score(y_sm_test,log_pred,average='weighted'),\n",
    "                    metrics.f1_score(y_sm_test,log_pred,average='weighted'),\n",
    "                    metrics.cohen_kappa_score(y_sm_test,log_pred)])\n",
    "        \n",
    "    elif i=='KNN': \n",
    "        model2=KNeighborsClassifier()\n",
    "        model2.fit(X_sm_train,y_sm_train)\n",
    "        knn_pred=model2.predict(X_sm_test)\n",
    "        #Evaluation metrics\n",
    "        report.add_row([i,\n",
    "                    metrics.accuracy_score(y_sm_test,knn_pred),\n",
    "                    metrics.precision_score(y_sm_test,knn_pred,average='weighted'),\n",
    "                    metrics.recall_score(y_sm_test,knn_pred,average='weighted'),\n",
    "                    metrics.f1_score(y_sm_test,knn_pred,average='weighted'),\n",
    "                    metrics.cohen_kappa_score(y_sm_test,log_pred)])\n",
    "        \n",
    "    elif i=='DecisionTreeClassifier':\n",
    "        model3=DecisionTreeClassifier()\n",
    "        model3.fit(X_sm_train,y_sm_train)\n",
    "        dec_pred=model3.predict(X_sm_test)\n",
    "        #Evaluation metrics\n",
    "        report.add_row([i,\n",
    "                    metrics.accuracy_score(y_sm_test,dec_pred),\n",
    "                    metrics.precision_score(y_sm_test,dec_pred,average='weighted'),\n",
    "                    metrics.recall_score(y_sm_test,dec_pred,average='weighted'),\n",
    "                    metrics.f1_score(y_sm_test,dec_pred,average='weighted'),\n",
    "                    metrics.cohen_kappa_score(y_sm_test,log_pred)])\n",
    "        \n",
    "    elif i=='RandomForestClassifier':\n",
    "        model4=RandomForestClassifier()\n",
    "        model4.fit(X_sm_train,y_sm_train)\n",
    "        random_pred=model4.predict(X_sm_test)\n",
    "        #Evaluation metrics\n",
    "        report.add_row([i,\n",
    "                    metrics.accuracy_score(y_sm_test,random_pred),\n",
    "                    metrics.precision_score(y_sm_test,random_pred,average='weighted'),\n",
    "                    metrics.recall_score(y_sm_test,random_pred,average='weighted'),\n",
    "                    metrics.f1_score(y_sm_test,random_pred,average='weighted'),\n",
    "                    metrics.cohen_kappa_score(y_sm_test,log_pred)])\n",
    "print(report)\n"
   ]
  },
  {
   "cell_type": "code",
   "execution_count": 106,
   "metadata": {},
   "outputs": [
    {
     "name": "stdout",
     "output_type": "stream",
     "text": [
      "+------------------------+-----------------------------------------------------------------------------------+---------------------+\n",
      "|       Model name       |                                  Best Parameters                                  |      Best Score     |\n",
      "+------------------------+-----------------------------------------------------------------------------------+---------------------+\n",
      "|          KNN           |                            {'p': 35, 'n_neighbors': 1}                            |   0.75369715406183  |\n",
      "| DecisionTreeClassifier | {'min_samples_leaf': 5, 'max_leaf_nodes': 9, 'max_depth': 4, 'criterion': 'gini'} | 0.38190181238432075 |\n",
      "| RandomForestClassifier |            {'n_estimators': 96, 'max_features': 1, 'criterion': 'gini'}           |  0.7231486741556561 |\n",
      "+------------------------+-----------------------------------------------------------------------------------+---------------------+\n"
     ]
    }
   ],
   "source": [
    "## Code to find the best hyper parameters for the KNN and DecisionTree and Random forest\n",
    "\n",
    "from sklearn.model_selection import RandomizedSearchCV\n",
    "## code to find the best model for the dataset\n",
    "\n",
    "\n",
    "best_par= PrettyTable()\n",
    "best_par.field_names=['Model name','Best Parameters','Best Score']\n",
    "\n",
    "\n",
    "classifier=['KNN','DecisionTreeClassifier','RandomForestClassifier']\n",
    "\n",
    "\n",
    "for i in classifier:\n",
    "    if i=='KNN': \n",
    "        grid1={'n_neighbors': np.arange(1,50,2),'p': np.arange(1,50)}\n",
    "        ran_search1=RandomizedSearchCV(model2,grid1,cv=5)\n",
    "        ran_search1.fit(X_sm_train,y_sm_train)\n",
    "        best_par.add_row([i,\n",
    "                          ran_search1.best_params_,\n",
    "                          ran_search1.best_score_])\n",
    "        \n",
    "    elif i=='DecisionTreeClassifier':\n",
    "        grid2={'criterion':['gini','entropy'],'max_depth': np.arange(2,10),'max_leaf_nodes':np.arange(2,10),'min_samples_leaf':np.arange(2,10)}\n",
    "        ran_search2=RandomizedSearchCV(model3,grid2,cv=5)\n",
    "        ran_search2.fit(X_sm_train,y_sm_train)\n",
    "        best_par.add_row([i,\n",
    "                          ran_search2.best_params_,\n",
    "                          ran_search2.best_score_])\n",
    "        \n",
    "    elif i=='RandomForestClassifier':\n",
    "        grid3={'criterion':['gini','entropy'],'n_estimators':np.arange(1,100),'max_features':np.arange(1,10)}\n",
    "        ran_search3=RandomizedSearchCV(model4,grid3,cv=3)\n",
    "        ran_search3.fit(X_sm_train,y_sm_train)\n",
    "        best_par.add_row([i,\n",
    "                          ran_search3.best_params_,\n",
    "                          ran_search3.best_score_])\n",
    "        \n",
    "print(best_par)\n"
   ]
  },
  {
   "cell_type": "code",
   "execution_count": 109,
   "metadata": {},
   "outputs": [
    {
     "name": "stdout",
     "output_type": "stream",
     "text": [
      "Accuracy Score: 0.7552486424081755\n",
      "Precision Score: 0.7556995791445656\n",
      "Recall Score: 0.7552486424081755\n",
      "F1 Score: 0.7503830427623157 \n",
      "\n",
      "[[3978  398   91  144  265  283  350  411]\n",
      " [ 407 3634   80  133  421  328  333  400]\n",
      " [   4   15 5603   52   44   36    9   31]\n",
      " [  12    3   24 5581    1   60   32  125]\n",
      " [ 177  239  101   77 4585  262  205  205]\n",
      " [ 397  355  113  291  348 2864  574  900]\n",
      " [ 178   81   42  158  124  422 3889  996]\n",
      " [  50   22    3   21   24  383  208 5192]] \n",
      "\n",
      "              precision    recall  f1-score   support\n",
      "\n",
      "           1       0.76      0.67      0.72      5920\n",
      "           2       0.77      0.63      0.69      5736\n",
      "           3       0.93      0.97      0.95      5794\n",
      "           4       0.86      0.96      0.91      5838\n",
      "           5       0.79      0.78      0.79      5851\n",
      "           6       0.62      0.49      0.55      5842\n",
      "           7       0.69      0.66      0.68      5890\n",
      "           8       0.63      0.88      0.73      5903\n",
      "\n",
      "    accuracy                           0.76     46774\n",
      "   macro avg       0.76      0.76      0.75     46774\n",
      "weighted avg       0.76      0.76      0.75     46774\n",
      "\n"
     ]
    }
   ],
   "source": [
    "# Since Random Forest Classifier outperformed, let's use it with parameter obtained and test it with unseen test data.\n",
    "model4=RandomForestClassifier(n_estimators=96,max_features=4,criterion='gini')\n",
    "model4.fit(X_sm_train,y_sm_train)\n",
    "random_pred=model4.predict(X_sm_test)\n",
    "    #Evaluation metrics\n",
    "print(\"Accuracy Score:\",metrics.accuracy_score(y_sm_test,random_pred))\n",
    "print(\"Precision Score:\",metrics.precision_score(y_sm_test,random_pred,average='weighted'))\n",
    "print(\"Recall Score:\",metrics.recall_score(y_sm_test,random_pred,average='weighted'))\n",
    "print(\"F1 Score:\",metrics.f1_score(y_sm_test,random_pred,average='weighted'),'\\n')\n",
    "\n",
    "print(metrics.confusion_matrix(y_sm_test,random_pred),'\\n')\n",
    "\n",
    "print(metrics.classification_report(y_sm_test,random_pred))"
   ]
  },
  {
   "cell_type": "code",
   "execution_count": null,
   "metadata": {},
   "outputs": [],
   "source": []
  }
 ],
 "metadata": {
  "kernelspec": {
   "display_name": "Python 3",
   "language": "python",
   "name": "python3"
  },
  "language_info": {
   "codemirror_mode": {
    "name": "ipython",
    "version": 3
   },
   "file_extension": ".py",
   "mimetype": "text/x-python",
   "name": "python",
   "nbconvert_exporter": "python",
   "pygments_lexer": "ipython3",
   "version": "3.7.3"
  }
 },
 "nbformat": 4,
 "nbformat_minor": 2
}
